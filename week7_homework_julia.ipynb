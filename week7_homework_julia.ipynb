{
 "cells": [
  {
   "cell_type": "markdown",
   "metadata": {},
   "source": [
    "# Homework # 7"
   ]
  },
  {
   "cell_type": "markdown",
   "metadata": {},
   "source": [
    "## Validation\n",
    "\n",
    "In the following problems, use the data provided in the files in.dta and out.dta for\n",
    "Homework # 6. We are going to apply linear regression with a nonlinear transformation\n",
    "for classification (without regularization). The nonlinear transformation is given\n",
    "by $\\phi_0$ through $\\phi_7$ which transform $(x_1 ,x_2)$ into\n",
    "$$1 \\hspace{1em} x_1 \\hspace{1em} x_2 \\hspace{1em} x_1^2 \\hspace{1em} x_2^2 \\hspace{1em}\n",
    "x_1 x_2 \\hspace{1em} \\left|x_1 - x_2\\right| \\hspace{1em} \\left|x_1 + x_2\\right|$$\n",
    "To illustrate how taking out points for validation affects the performance, we will\n",
    "consider the hypotheses trained on $\\mathcal{D}_\\mathrm{train}$\n",
    "(without restoring the full $\\mathcal{D}$ for training after validation is done)."
   ]
  },
  {
   "cell_type": "markdown",
   "metadata": {},
   "source": [
    "### 1.\n",
    "Split **in.dta** into training (first 25 examples) and validation (last 10 examples).\n",
    "Train on the 25 examples only, using the validation set of 10 examples to select\n",
    "between five models that apply linear regression to $\\phi_0$ through $\\phi_k$, with\n",
    "$k = 3,4,5,6,7$. For which model is the classification error on the validation set\n",
    "smallest?\n",
    "\n",
    "[a] k = 3\n",
    "\n",
    "[b] k = 4\n",
    "\n",
    "[c] k = 5\n",
    "\n",
    "[d] k = 6\n",
    "\n",
    "[e] k = 7"
   ]
  },
  {
   "cell_type": "code",
   "execution_count": null,
   "metadata": {
    "collapsed": true
   },
   "outputs": [],
   "source": [
    "# download(\"http://work.caltech.edu/data/in.dta\", \"in.dta\")\n",
    "# download(\"http://work.caltech.edu/data/out.dta\", \"out.dta\")"
   ]
  },
  {
   "cell_type": "code",
   "execution_count": 17,
   "metadata": {
    "collapsed": true
   },
   "outputs": [],
   "source": [
    "training_data = readdlm(\"in.dta\")\n",
    "test_data = readdlm(\"out.dta\");"
   ]
  },
  {
   "cell_type": "code",
   "execution_count": 2,
   "metadata": {
    "collapsed": false
   },
   "outputs": [
    {
     "data": {
      "text/plain": [
       "(anonymous function)"
      ]
     },
     "execution_count": 2,
     "metadata": {},
     "output_type": "execute_result"
    }
   ],
   "source": [
    "transformer=(i,x)->[1, x[1], x[2], x[1]^2, x[2]^2, x[1]*x[2], abs(x[1]-x[2]), abs(x[1]+x[2])][1:i+1]"
   ]
  },
  {
   "cell_type": "code",
   "execution_count": 3,
   "metadata": {
    "collapsed": false
   },
   "outputs": [
    {
     "data": {
      "text/plain": [
       "linear_regression (generic function with 1 method)"
      ]
     },
     "execution_count": 3,
     "metadata": {},
     "output_type": "execute_result"
    }
   ],
   "source": [
    "function mis_classified_count(points, labels, weights)\n",
    "    return sum(sign(points*weights) .!= labels)\n",
    "end\n",
    "\n",
    "function linear_regression(points, labels)\n",
    "    return pinv(points'*points)*points'*labels # this is faster than simple pinv(points)*labels\n",
    "end"
   ]
  },
  {
   "cell_type": "code",
   "execution_count": 4,
   "metadata": {
    "collapsed": false
   },
   "outputs": [
    {
     "data": {
      "text/plain": [
       "question1 (generic function with 1 method)"
      ]
     },
     "execution_count": 4,
     "metadata": {},
     "output_type": "execute_result"
    }
   ],
   "source": [
    "function question1()\n",
    "    for i in 3:7\n",
    "        training_points_whole = mapslices(x->transformer(i, x), training_data, 2)\n",
    "        training_labels_whole = training_data[:,3];\n",
    "        training_points = training_points_whole[1:25,:]\n",
    "        validation_points = training_points_whole[26:35,:]\n",
    "        training_labels = training_labels_whole[1:25]\n",
    "        validation_labels = training_labels_whole[26:35];\n",
    "        \n",
    "        training_weights = linear_regression(training_points, training_labels)\n",
    "        validation_error = mis_classified_count(validation_points,validation_labels,\n",
    "            training_weights)/length(validation_labels)\n",
    "        @show((i, validation_error))\n",
    "    end\n",
    "end"
   ]
  },
  {
   "cell_type": "code",
   "execution_count": 5,
   "metadata": {
    "collapsed": false
   },
   "outputs": [
    {
     "name": "stdout",
     "output_type": "stream",
     "text": [
      "(i,validation_error) = (3,0.3)\n",
      "(i,validation_error) = (4,0.5)\n",
      "(i,validation_error) = (5,0.2)\n",
      "(i,validation_error) = (6,0.0)\n",
      "(i,validation_error) = (7,0.1)\n"
     ]
    }
   ],
   "source": [
    "question1()"
   ]
  },
  {
   "cell_type": "markdown",
   "metadata": {},
   "source": [
    "## 2.\n",
    "Evaluate the out-of-sample classification error using **out.dta** on the 5 models\n",
    "to see how well the validation set predicted the best of the 5 models. For which\n",
    "model is the out-of-sample classification error smallest?\n",
    "\n",
    "[a] k = 3\n",
    "\n",
    "[b] k = 4\n",
    "\n",
    "[c] k = 5\n",
    "\n",
    "[d] k = 6\n",
    "\n",
    "[e] k = 7"
   ]
  },
  {
   "cell_type": "code",
   "execution_count": 6,
   "metadata": {
    "collapsed": false
   },
   "outputs": [
    {
     "data": {
      "text/plain": [
       "question2 (generic function with 1 method)"
      ]
     },
     "execution_count": 6,
     "metadata": {},
     "output_type": "execute_result"
    }
   ],
   "source": [
    "function question2()\n",
    "    for i in 3:7\n",
    "        training_points_whole = mapslices(x->transformer(i, x), training_data, 2)\n",
    "        training_labels_whole = training_data[:,3];\n",
    "        training_points = training_points_whole[1:25,:]\n",
    "        training_labels = training_labels_whole[1:25]\n",
    "\n",
    "        test_points = mapslices(x->transformer(i, x), test_data, 2)\n",
    "        test_labels = test_data[:,3];\n",
    "        \n",
    "        training_weights = linear_regression(training_points, training_labels)\n",
    "        test_error = mis_classified_count(test_points,test_labels,\n",
    "            training_weights)/length(test_labels)\n",
    "        \n",
    "        @show((i, test_error))\n",
    "    end\n",
    "end"
   ]
  },
  {
   "cell_type": "code",
   "execution_count": 7,
   "metadata": {
    "collapsed": false
   },
   "outputs": [
    {
     "name": "stdout",
     "output_type": "stream",
     "text": [
      "(i,test_error) = (3,0.42)\n",
      "(i,test_error) = (4,0.416)\n",
      "(i,test_error) = (5,0.188)\n",
      "(i,test_error) = (6,0.084)\n",
      "(i,test_error) = (7,0.072)\n"
     ]
    }
   ],
   "source": [
    "question2()"
   ]
  },
  {
   "cell_type": "markdown",
   "metadata": {},
   "source": [
    "### 3.\n",
    "Reverse the role of training and validation sets; now training with the last 10\n",
    "examples and validating with the first 25 examples. For which model is the\n",
    "classification error on the validation set smallest?\n",
    "\n",
    "[a] k = 3\n",
    "\n",
    "[b] k = 4\n",
    "\n",
    "[c] k = 5\n",
    "\n",
    "[d] k = 6\n",
    "\n",
    "[e] k = 7"
   ]
  },
  {
   "cell_type": "code",
   "execution_count": 8,
   "metadata": {
    "collapsed": false
   },
   "outputs": [
    {
     "data": {
      "text/plain": [
       "question3 (generic function with 1 method)"
      ]
     },
     "execution_count": 8,
     "metadata": {},
     "output_type": "execute_result"
    }
   ],
   "source": [
    "function question3()\n",
    "    for i in 3:7\n",
    "        training_points_whole = mapslices(x->transformer(i, x), training_data, 2)\n",
    "        training_labels_whole = training_data[:,3];\n",
    "        training_points = training_points_whole[26:35,:]\n",
    "        validation_points = training_points_whole[1:25,:]\n",
    "        training_labels = training_labels_whole[26:35]\n",
    "        validation_labels = training_labels_whole[1:25];\n",
    "        \n",
    "        training_weights = linear_regression(training_points, training_labels)\n",
    "        validation_error = mis_classified_count(validation_points,validation_labels,\n",
    "            training_weights)/length(validation_labels)\n",
    "        @show((i, validation_error))\n",
    "    end\n",
    "end"
   ]
  },
  {
   "cell_type": "code",
   "execution_count": 9,
   "metadata": {
    "collapsed": false
   },
   "outputs": [
    {
     "name": "stdout",
     "output_type": "stream",
     "text": [
      "(i,validation_error) = (3,0.28)\n",
      "(i,validation_error) = (4,0.36)\n",
      "(i,validation_error) = (5,0.2)\n",
      "(i,validation_error) = (6,0.08)\n",
      "(i,validation_error) = (7,0.12)\n"
     ]
    }
   ],
   "source": [
    "question3()"
   ]
  },
  {
   "cell_type": "markdown",
   "metadata": {},
   "source": [
    "### 4.\n",
    "Once again, evaluate the out-of-sample classification error using out.dta on the\n",
    "5 models to see how well the validation set predicted the best of the 5 models.\n",
    "For which model is the out-of-sample classification error smallest?\n",
    "\n",
    "[a] k = 3\n",
    "\n",
    "[b] k = 4\n",
    "\n",
    "[c] k = 5\n",
    "\n",
    "[d] k = 6\n",
    "\n",
    "[e] k = 7"
   ]
  },
  {
   "cell_type": "code",
   "execution_count": 10,
   "metadata": {
    "collapsed": false
   },
   "outputs": [
    {
     "data": {
      "text/plain": [
       "question4 (generic function with 1 method)"
      ]
     },
     "execution_count": 10,
     "metadata": {},
     "output_type": "execute_result"
    }
   ],
   "source": [
    "function question4()\n",
    "    for i in 3:7\n",
    "        training_points_whole = mapslices(x->transformer(i, x), training_data, 2)\n",
    "        training_labels_whole = training_data[:,3];\n",
    "        training_points = training_points_whole[26:35,:]\n",
    "        training_labels = training_labels_whole[26:35]\n",
    "\n",
    "        test_points = mapslices(x->transformer(i, x), test_data, 2)\n",
    "        test_labels = test_data[:,3];\n",
    "        \n",
    "        training_weights = linear_regression(training_points, training_labels)\n",
    "        test_error = mis_classified_count(test_points,test_labels,\n",
    "            training_weights)/length(test_labels)\n",
    "        \n",
    "        @show((i, test_error))\n",
    "    end\n",
    "end"
   ]
  },
  {
   "cell_type": "code",
   "execution_count": 11,
   "metadata": {
    "collapsed": false
   },
   "outputs": [
    {
     "name": "stdout",
     "output_type": "stream",
     "text": [
      "(i,test_error) = (3,0.396)\n",
      "(i,test_error) = (4,0.388)\n",
      "(i,test_error) = (5,0.284)\n",
      "(i,test_error) = (6,0.192)\n",
      "(i,test_error) = (7,0.196)\n"
     ]
    }
   ],
   "source": [
    "question4()"
   ]
  },
  {
   "cell_type": "markdown",
   "metadata": {},
   "source": [
    "### 5.\n",
    "What values are closest in Euclidean distance to the out-of-sample classification\n",
    "error obtained for the model chosen in Problems 1 and 3, respectively?\n",
    "\n",
    "[a] 0.0, 0.1\n",
    "\n",
    "[b] 0.1, 0.2\n",
    "\n",
    "[c] 0.1, 0.3\n",
    "\n",
    "[d] 0.2, 0.2\n",
    "\n",
    "[e] 0.2, 0.3"
   ]
  },
  {
   "cell_type": "code",
   "execution_count": 12,
   "metadata": {
    "collapsed": false
   },
   "outputs": [
    {
     "data": {
      "text/plain": [
       "question5 (generic function with 1 method)"
      ]
     },
     "execution_count": 12,
     "metadata": {},
     "output_type": "execute_result"
    }
   ],
   "source": [
    "function question5()\n",
    "    x = [0.084 0.192]\n",
    "    points =\n",
    "        [0.0 0.1;\n",
    "        0.1 0.2;\n",
    "        0.1 0.3;\n",
    "        0.2 0.2;\n",
    "        0.2 0.3]\n",
    "    \n",
    "    for i in 1:5\n",
    "        @show(norm(x-points[i,:]))\n",
    "    end\n",
    "end"
   ]
  },
  {
   "cell_type": "code",
   "execution_count": 13,
   "metadata": {
    "collapsed": false
   },
   "outputs": [
    {
     "name": "stdout",
     "output_type": "stream",
     "text": [
      "norm(x - points[i,:]) = 0.12457929201917949\n",
      "norm(x - points[i,:]) = 0.01788854381999832\n",
      "norm(x - points[i,:]) = 0.10917875251164944\n",
      "norm(x - points[i,:]) = 0.11627553482998906\n",
      "norm(x - points[i,:]) = 0.15849290204927158\n"
     ]
    }
   ],
   "source": [
    "question5()"
   ]
  },
  {
   "cell_type": "markdown",
   "metadata": {},
   "source": [
    "## Validation Bias"
   ]
  },
  {
   "cell_type": "markdown",
   "metadata": {},
   "source": [
    "### 6.\n",
    "Let $\\mathbf{e}_1$ and $\\mathbf{e}_2$ be independent random variables, distributed uniformly over the\n",
    "interval $[0,1]$. Let $\\mathbf{e} = \\min(\\mathbf{e}_1 ,\\mathbf{e}_2)$. The expected values of\n",
    "$\\mathbf{e}_1 ,\\mathbf{e}_2,\\mathbf{e}$ are closest to\n",
    "\n",
    "[a] 0.5, 0.5, 0\n",
    "\n",
    "[b] 0.5, 0.5, 0.1\n",
    "\n",
    "[c] 0.5, 0.5, 0.25\n",
    "\n",
    "[d] 0.5, 0.5, 0.4\n",
    "\n",
    "[e] 0.5, 0.5, 0.5"
   ]
  },
  {
   "cell_type": "markdown",
   "metadata": {},
   "source": [
    "** Analytical **\n",
    "\n",
    "$\n",
    "P\\{x \\leq \\mathbf{e}\\} = P\\{ x \\leq \\mathbf{e}_1 \\mbox{ or } x \\leq \\mathbf{e}_1 \\} = 1-P\\{ x \\geq \\mathbf{e}_1 \\mbox{ and } x \\geq \\mathbf{e}_1 \\} =1-(1-x)^2$ for $0 \\leq x \\leq 1$\n",
    "\n",
    "So, the probability density function of $\\mathbf{e}$ is $p(x) = 2(1-x)$ and the expected value is\n",
    "$$\\int_0^1 p(x)x dx = \\int_0^1 2(1-x)x dx = \\frac{1}{3}$$\n",
    "\n",
    "** Simulation **"
   ]
  },
  {
   "cell_type": "code",
   "execution_count": 14,
   "metadata": {
    "collapsed": false
   },
   "outputs": [
    {
     "data": {
      "text/plain": [
       "question6 (generic function with 2 methods)"
      ]
     },
     "execution_count": 14,
     "metadata": {},
     "output_type": "execute_result"
    }
   ],
   "source": [
    "function question6(num_points=10000)\n",
    "    e1 = rand(num_points)\n",
    "    e2 = rand(num_points)\n",
    "    e3 = min(e1, e2)\n",
    "    return mean(e1), mean(e2), mean(e3)\n",
    "end"
   ]
  },
  {
   "cell_type": "code",
   "execution_count": 15,
   "metadata": {
    "collapsed": false
   },
   "outputs": [
    {
     "data": {
      "text/plain": [
       "(0.4999845037202484,0.4970625974421255,0.33235273909926766)"
      ]
     },
     "execution_count": 15,
     "metadata": {},
     "output_type": "execute_result"
    }
   ],
   "source": [
    "question6()"
   ]
  },
  {
   "cell_type": "markdown",
   "metadata": {},
   "source": [
    "## Cross Validation"
   ]
  },
  {
   "cell_type": "markdown",
   "metadata": {},
   "source": [
    "### 7.\n",
    "You are given the data points $(x,y): (−1,0),(\\rho,1),(1,0), \\rho \\geq 0$, and a choice\n",
    "between two models: constant $\\{h_0(x) = b\\}$ and linear $\\{h_1(x) = ax + b\\}$.\n",
    "For which value of $\\rho$ would the two models be tied using leave-one-out cross-validation with the squared error measure?\n",
    "\n",
    "[a] $\\sqrt{\\sqrt{3}+4}$\n",
    "\n",
    "[b] $\\sqrt{\\sqrt{3}-1}$\n",
    "\n",
    "[c] $\\sqrt{9+4\\sqrt{6}}$\n",
    "\n",
    "[d] $\\sqrt{9-\\sqrt{6}}$\n",
    "\n",
    "[e] None of the above"
   ]
  },
  {
   "cell_type": "markdown",
   "metadata": {},
   "source": [
    "**Constaint model**\n",
    "\n",
    "In this model, the optimum parameter is the average of $y$-coordinate of the points.\n",
    "The squared errors of each case are\n",
    "\n",
    "* training:$(-1,0),(\\rho,1)$, validation:$(1,0)\\to \\mathbf{e}_1 = \\left(\\frac{0+1}{2}-1\\right)^2=\\frac{1}{4}$\n",
    "* training:$(-1,0),(1,0)$, validation:$(\\rho,1)\\to \\mathbf{e}_2 = \\left(\\frac{0+0}{2}-1\\right)^2=1$\n",
    "* training:$(\\rho,1),(1,0)$, validation:$(-1,0)\\to \\mathbf{e}_1 = \\left(\\frac{0+1}{2}-1\\right)^2=\\frac{1}{4}$\n",
    "\n",
    "So, the leave-one-out cross-validation error is $E_\\mathrm{cv}=\\frac{1}{3}(\\mathbf{e}_1 + \\mathbf{e}_2 + \\mathbf{e}_3)=\\frac{1}{3}\\times \\frac{3}{2}$\n",
    "\n",
    "\n",
    "**Linear model**\n",
    "\n",
    "In this model, the optimum parameter is determined by the line passing the two training points.\n",
    "The squared errors of each case are\n",
    "\n",
    "* training:$(-1,0),(\\rho,1)$, validation:$(1,0)$\n",
    "    * the line passing the two training points is $y = \\frac{x+1}{\\rho+1}$ and $\\mathbf{e}_1 = \\left(\\frac{1+1}{\\rho+1}\\right)^2= \\left(\\frac{2}{\\rho+1}\\right)^2$\n",
    "\n",
    "* training:$(-1,0),(1,0)$, validation:$(\\rho,1)$\n",
    "    * the line passing the two training points is $y=0$ and $\\mathbf{e}_2 = (0-1)^2=1$\n",
    "\n",
    "* training:$(\\rho,1),(1,0)$, validation:$(-1,0)$\n",
    "    * the line passing the two training points is $y = \\frac{x-1}{\\rho-1}$ and $\\mathbf{e}_3 = \\left(\\frac{-1-1}{\\rho-1}\\right)^2= \\left(\\frac{-2}{\\rho-1}\\right)^2$\n",
    "    \n",
    "So,  the leave-one-out cross-validation error is $E_\\mathrm{cv}=\\frac{1}{3}(\\mathbf{e}_1 + \\mathbf{e}_2 + \\mathbf{e}_3)=\n",
    "\\frac{1}{3}\\left( \\left(\\frac{2}{\\rho+1}\\right)^2+ 1 + \\left(\\frac{-2}{\\rho-1}\\right)^2 \\right)$\n",
    "\n",
    "What we want is the $\\rho$ equating these two errors and the $\\rho$ is the solution of\n",
    "$$\\left(\\frac{2}{\\rho+1}\\right)^2+ 1 + \\left(\\frac{-2}{\\rho-1}\\right)^2 = \\frac{3}{2}$$\n",
    "and $\\rho = \\pm \\sqrt{9 + 4\\sqrt{6}}, \\pm \\left(i\\sqrt{9 + 4\\sqrt{6}}\\right)$. From the condition $\\rho \\geq 0$, we get the answer."
   ]
  },
  {
   "cell_type": "markdown",
   "metadata": {},
   "source": [
    "## PLA vs. SVM\n",
    "\n",
    "*Notice: Quadratic Programming packages sometimes need tweaking and have numerical issues,\n",
    "and this is characteristic of packages you will use in practical ML situations.\n",
    "Your understanding of support vectors will help you get to the correct answers.*\n",
    "\n",
    "In the following problems, we compare PLA to SVM with hard margin on linearly\n",
    "separable data sets. For each run, you will create your own target function $f$ and\n",
    "data set $\\mathcal{D}$. Take $d = 2$ and choose a random line in the plane as your target function\n",
    "$f$ (do this by taking two random, uniformly distributed points on $[−1,1] \\times [−1,1]$\n",
    "and taking the line passing through them), where one side of the line maps to $+1$\n",
    "and the other maps to $−1$. Choose the inputs $\\mathbf{x}_n$ of the data set as random points\n",
    "in $X = [−1,1] \\times [−1,1]$, and evaluate the target function on each $\\mathbf{x}_n$ to get the\n",
    "corresponding output $y_n$ . If all data points are on one side of the line, discard the\n",
    "run and start a new run.\n",
    "\n",
    "Start PLA with the all-zero vector and pick the misclassified point for each PLA\n",
    "iteration at random. Run PLA to find the final hypothesis $g_\\mathrm{PLA}$ and measure the\n",
    "disagreement between $f$ and $g_\\mathrm{PLA}$ as\n",
    "$\\mathbb{P}[f(\\mathbf{x}) \\neq g_\\mathrm{PLA}(\\mathbf{x})]$ (you can either calculate this\n",
    "exactly, or approximate it by generating a sufficiently large, separate set of points to\n",
    "evaluate it). Now, run SVM on the same data to find the final hypothesis $g_\\mathrm{SVM}$ by\n",
    "solving\n",
    "$$\\begin{eqnarray}\n",
    "&\\min_{\\mathbf{w}, b}&\\frac{1}{2}\\mathbf{w}^\\intercal \\mathbf{w} \\\\\n",
    "&\\mbox{s.t}& y_n (\\mathbf{w}^\\intercal \\mathbf{x}_n + b) \\geq 1\n",
    "\\end{eqnarray}$$\n",
    "using quadratic programming on the primal or the dual problem. Measure the disagreement\n",
    "between $f$ and $g_\\mathrm{SVM}$ as $\\mathbb{P}[f(\\mathbf{x}) \\neq g_\\mathrm{SVM}(\\mathbf{x})]$,\n",
    "and count the number of support vectors you get in each run."
   ]
  },
  {
   "cell_type": "markdown",
   "metadata": {},
   "source": [
    "### 8.\n",
    "For $N = 10$, repeat the above experiment for $1000$ runs. How often is $g_\\mathrm{SVM}$\n",
    "better than $g_\\mathrm{PLA}$ in approximating $f$? The percentage of time is closest to:\n",
    "\n",
    "[a] 20%\n",
    "\n",
    "[b] 40%\n",
    "\n",
    "[c] 60%\n",
    "\n",
    "[d] 80%\n",
    "\n",
    "[e] 100%"
   ]
  },
  {
   "cell_type": "code",
   "execution_count": 1,
   "metadata": {
    "collapsed": false
   },
   "outputs": [
    {
     "data": {
      "text/plain": [
       "prob_difference (generic function with 1 method)"
      ]
     },
     "execution_count": 1,
     "metadata": {},
     "output_type": "execute_result"
    }
   ],
   "source": [
    "function gen_target()\n",
    "    linpts = 2.0*rand((2,2)) - 1.0\n",
    "    targ_weights = [1.0; linpts \\ [-1, -1]] # a bit slow\n",
    "    return targ_weights\n",
    "end\n",
    "\n",
    "function gen_dataset(num_points, targ_weights)\n",
    "    points = [ones(num_points) (2.0*rand((num_points,2)) - 1.0)]\n",
    "    labels = sign(points*targ_weights)\n",
    "    return points, labels\n",
    "end\n",
    "\n",
    "function mis_collection(points, labels, weights)\n",
    "    return find(sign(points*weights) .!= labels)\n",
    "end\n",
    "\n",
    "function perceptron(points, labels)\n",
    "    weights = zeros(3)\n",
    "    num_iter = 0\n",
    "    mis_idxs = mis_collection(points, labels, weights)\n",
    "    while true\n",
    "        idx = mis_idxs[rand(1:length(mis_idxs))]\n",
    "        weights += labels[idx] * points[idx,:][:]\n",
    "        num_iter += 1\n",
    "        mis_idxs = mis_collection(points, labels, weights)\n",
    "        if length(mis_idxs) == 0\n",
    "            break\n",
    "        end\n",
    "    end\n",
    "    \n",
    "    return weights, num_iter\n",
    "end\n",
    "\n",
    "function prob_difference(targ_weights, hypo_weights; num_mcpoints=10000)\n",
    "    points = [ones(num_mcpoints) (2.0*rand((num_mcpoints,2)) - 1.0)]\n",
    "    return sum(sign(points*targ_weights) .!= sign(points*hypo_weights)) / num_mcpoints\n",
    "end"
   ]
  },
  {
   "cell_type": "code",
   "execution_count": 2,
   "metadata": {
    "collapsed": false
   },
   "outputs": [
    {
     "data": {
      "text/plain": [
       "plot_svm (generic function with 1 method)"
      ]
     },
     "execution_count": 2,
     "metadata": {},
     "output_type": "execute_result"
    }
   ],
   "source": [
    "using PyCall,PyPlot\n",
    "@pyimport seaborn as sns\n",
    "\n",
    "# Same as plot_pla in week2\n",
    "function plot_svm(points, labels, targ_weights, hypo_weights)\n",
    "    x11,x12,x21,x22=[], [], [], []\n",
    "    for idx in 1:size(points)[1]\n",
    "        if labels[idx] == 1\n",
    "            push!(x11, points[idx,2])\n",
    "            push!(x12, points[idx,3])\n",
    "        else\n",
    "            push!(x21, points[idx,2])\n",
    "            push!(x22, points[idx,3])\n",
    "        end\n",
    "    end\n",
    "\n",
    "    fig = figure(figsize=(5,5))\n",
    "    ax = axes()\n",
    "    xlim(-1, 1)\n",
    "    ylim(-1, 1)\n",
    "    scatter(x11, x12, alpha=0.5, color=\"red\")\n",
    "    scatter(x21, x22, alpha=0.5, color=\"blue\")\n",
    "    s = linspace(-1,1)\n",
    "    targ_func(x) = -targ_weights[2]/targ_weights[3]*x - targ_weights[1]/targ_weights[3]\n",
    "    hypo_func(x) = -hypo_weights[2]/hypo_weights[3]*x - hypo_weights[1]/hypo_weights[3]\n",
    "    plot(s, targ_func(s), \"g-\", label=\"Target\")\n",
    "    plot(s, hypo_func(s), \"y-\", label=\"SVM\")\n",
    "    title(\"SVM\")\n",
    "    xlabel(L\"$x_1$\")\n",
    "    ylabel(L\"$x_2$\")\n",
    "    grid(\"on\")\n",
    "    legend(loc=\"best\")\n",
    "end"
   ]
  },
  {
   "cell_type": "code",
   "execution_count": 3,
   "metadata": {
    "collapsed": false
   },
   "outputs": [
    {
     "data": {
      "text/plain": [
       "svm (generic function with 1 method)"
      ]
     },
     "execution_count": 3,
     "metadata": {},
     "output_type": "execute_result"
    }
   ],
   "source": [
    "using JuMP\n",
    "using Ipopt\n",
    "\n",
    "# QP implementation of SVM\n",
    "function svm(points, labels)\n",
    "    num_features = length(points[1,:][:])\n",
    "    num_points = length(labels)\n",
    "\n",
    "    m = Model(solver=IpoptSolver(print_level=0))\n",
    "    @variable(m, w[1:num_features])\n",
    "    @variable(m, b)\n",
    "    @NLobjective(m, Min, 1/2 * sum{w[i]*w[i], i=1:num_features})\n",
    "    @constraint(m, [n=1:num_points], labels[n]*(sum{w[i] * points[n,:][i], i=1:num_features} + b) >= 1)\n",
    "    solve(m)\n",
    "    #@show(getvalue(w))\n",
    "    return [getvalue(b);getvalue(w)]\n",
    "end"
   ]
  },
  {
   "cell_type": "code",
   "execution_count": 4,
   "metadata": {
    "collapsed": false
   },
   "outputs": [
    {
     "data": {
      "text/plain": [
       "svm2 (generic function with 1 method)"
      ]
     },
     "execution_count": 4,
     "metadata": {},
     "output_type": "execute_result"
    }
   ],
   "source": [
    "using JuMP\n",
    "using Ipopt\n",
    "\n",
    "# QP implementation of SVM\n",
    "# Assuming the points have constant term\n",
    "function svm2(points, labels)  \n",
    "    num_features = length(points[1,:][:])\n",
    "    num_points = length(labels)\n",
    "\n",
    "    m = Model(solver=IpoptSolver(print_level=0))\n",
    "    @variable(m, w[1:num_features])\n",
    "    @NLobjective(m, Min, 1/2 * sum{w[i]*w[i], i=1:num_features})\n",
    "    @constraint(m, [n=1:num_points], labels[n]*(sum{w[i] * points[n,:][i], i=1:num_features}) >= 1)\n",
    "    solve(m)\n",
    "    return getvalue(w)\n",
    "end"
   ]
  },
  {
   "cell_type": "code",
   "execution_count": 5,
   "metadata": {
    "collapsed": false
   },
   "outputs": [
    {
     "data": {
      "text/plain": [
       "simulate_svm_vs_pla (generic function with 1 method)"
      ]
     },
     "execution_count": 5,
     "metadata": {},
     "output_type": "execute_result"
    }
   ],
   "source": [
    "function simulate_svm_vs_pla(num_points; num_iterations=1000, num_mcpoints=10000, plot=false)\n",
    "    svm_win = 0\n",
    "    for idx in 1:num_iterations\n",
    "        # Generate data\n",
    "        targ_weights = nothing\n",
    "        points = nothing\n",
    "        labels = nothing\n",
    "        while true\n",
    "            targ_weights = gen_target()\n",
    "            points, labels = gen_dataset(num_points, targ_weights)\n",
    "            count(x-> x==1.0, labels) == num_points || break\n",
    "        end\n",
    "        \n",
    "        # PLA\n",
    "        weights, _ = perceptron(points, labels)\n",
    "        pla_prob = prob_difference(targ_weights, weights, num_mcpoints=num_mcpoints)\n",
    "        \n",
    "        # SVM\n",
    "        weights = svm2(points, labels)\n",
    "        svm_prob = prob_difference(targ_weights, weights, num_mcpoints=num_mcpoints)\n",
    "        \n",
    "        if svm_prob < pla_prob\n",
    "            svm_win += 1\n",
    "        end\n",
    "        \n",
    "        if plot == true && idx == num_iterations\n",
    "            plot_svm(points, labels, targ_weights, weights)\n",
    "        end\n",
    "    end\n",
    "    return svm_win/num_iterations\n",
    "end"
   ]
  },
  {
   "cell_type": "code",
   "execution_count": 6,
   "metadata": {
    "collapsed": false
   },
   "outputs": [
    {
     "data": {
      "image/png": "[encoded data removed]",
      "text/plain": [
       "PyPlot.Figure(PyObject <matplotlib.figure.Figure object at 0x7f18e4ff2f98>)"
      ]
     },
     "metadata": {},
     "output_type": "display_data"
    },
    {
     "name": "stdout",
     "output_type": "stream",
     "text": [
      "\n",
      "******************************************************************************\n",
      "This program contains Ipopt, a library for large-scale nonlinear optimization.\n",
      " Ipopt is released as open source code under the Eclipse Public License (EPL).\n",
      "         For more information visit http://projects.coin-or.org/Ipopt\n",
      "******************************************************************************\n",
      "\n"
     ]
    },
    {
     "data": {
      "text/plain": [
       "0.617"
      ]
     },
     "execution_count": 6,
     "metadata": {},
     "output_type": "execute_result"
    }
   ],
   "source": [
    "simulate_svm_vs_pla(10, plot=true)"
   ]
  },
  {
   "cell_type": "code",
   "execution_count": 7,
   "metadata": {
    "collapsed": false
   },
   "outputs": [
    {
     "data": {
      "text/plain": [
       "svm_win_plot (generic function with 2 methods)"
      ]
     },
     "execution_count": 7,
     "metadata": {},
     "output_type": "execute_result"
    }
   ],
   "source": [
    "using PyCall,PyPlot\n",
    "@pyimport seaborn as sns\n",
    "\n",
    "function svm_win_plot(num_points, iterations=10)\n",
    "    prob_list = []\n",
    "    for idx in 1:iterations\n",
    "        prob = simulate_svm_vs_pla(num_points)\n",
    "        push!(prob_list, prob)\n",
    "    end\n",
    "    fig = figure(figsize=(5,5))\n",
    "    plot(prob_list)\n",
    "    grid(\"on\")\n",
    "    title(\"svm win prob\")\n",
    "    return prob_list\n",
    "end"
   ]
  },
  {
   "cell_type": "code",
   "execution_count": 8,
   "metadata": {
    "collapsed": false
   },
   "outputs": [
    {
     "data": {
      "image/png": "[encoded data removed]",
      "text/plain": [
       "PyPlot.Figure(PyObject <matplotlib.figure.Figure object at 0x7f18e15dfb70>)"
      ]
     },
     "metadata": {},
     "output_type": "display_data"
    },
    {
     "data": {
      "text/plain": [
       "10-element Array{Any,1}:\n",
       " 0.622\n",
       " 0.599\n",
       " 0.624\n",
       " 0.602\n",
       " 0.641\n",
       " 0.608\n",
       " 0.619\n",
       " 0.618\n",
       " 0.608\n",
       " 0.638"
      ]
     },
     "execution_count": 8,
     "metadata": {},
     "output_type": "execute_result"
    }
   ],
   "source": [
    "svm_win_plot(10)"
   ]
  },
  {
   "cell_type": "markdown",
   "metadata": {},
   "source": [
    "### 9.\n",
    "For $N = 100$, repeat the above experiment for $1000$ runs. How often is $g_\\mathrm{SVM}$\n",
    "better than $g_\\mathrm{PLA}$ in approximating $$? The percentage of time is closest to:\n",
    "\n",
    "[a] 10%\n",
    "\n",
    "[b] 30%\n",
    "\n",
    "[c] 50%\n",
    "\n",
    "[d] 70%\n",
    "\n",
    "[e] 90%"
   ]
  },
  {
   "cell_type": "code",
   "execution_count": 9,
   "metadata": {
    "collapsed": false
   },
   "outputs": [
    {
     "data": {
      "image/png": "[encoded data removed]",
      "text/plain": [
       "PyPlot.Figure(PyObject <matplotlib.figure.Figure object at 0x7f18e1669a20>)"
      ]
     },
     "metadata": {},
     "output_type": "display_data"
    },
    {
     "data": {
      "text/plain": [
       "0.647"
      ]
     },
     "execution_count": 9,
     "metadata": {},
     "output_type": "execute_result"
    }
   ],
   "source": [
    "simulate_svm_vs_pla(100, plot=true)"
   ]
  },
  {
   "cell_type": "code",
   "execution_count": 10,
   "metadata": {
    "collapsed": false
   },
   "outputs": [
    {
     "data": {
      "image/png": "[encoded data removed]",
      "text/plain": [
       "PyPlot.Figure(PyObject <matplotlib.figure.Figure object at 0x7f18e07fd240>)"
      ]
     },
     "metadata": {},
     "output_type": "display_data"
    },
    {
     "data": {
      "text/plain": [
       "10-element Array{Any,1}:\n",
       " 0.625\n",
       " 0.637\n",
       " 0.626\n",
       " 0.626\n",
       " 0.65 \n",
       " 0.669\n",
       " 0.623\n",
       " 0.641\n",
       " 0.655\n",
       " 0.628"
      ]
     },
     "execution_count": 10,
     "metadata": {},
     "output_type": "execute_result"
    }
   ],
   "source": [
    "svm_win_plot(100)"
   ]
  },
  {
   "cell_type": "markdown",
   "metadata": {},
   "source": [
    "### 10.\n",
    "For the case $N = 100$, which of the following is the closest to the average number\n",
    "of support vectors of $g_\\mathrm{SVM}$ (averaged over the $1000$ runs)?\n",
    "\n",
    "[a] 2\n",
    "\n",
    "[b] 3\n",
    "\n",
    "[c] 5\n",
    "\n",
    "[d] 10\n",
    "\n",
    "[e] 20"
   ]
  },
  {
   "cell_type": "code",
   "execution_count": 11,
   "metadata": {
    "collapsed": false
   },
   "outputs": [
    {
     "data": {
      "text/plain": [
       "count_sv (generic function with 1 method)"
      ]
     },
     "execution_count": 11,
     "metadata": {},
     "output_type": "execute_result"
    }
   ],
   "source": [
    "using PyCall,PyPlot\n",
    "@pyimport seaborn as sns\n",
    "\n",
    "function count_sv(num_points; num_iterations=1000)\n",
    "    counts = []\n",
    "    \n",
    "    for idx in 1:num_iterations\n",
    "        cnt = 0\n",
    "        # Generate data\n",
    "        targ_weights = nothing\n",
    "        points = nothing\n",
    "        labels = nothing\n",
    "        while true\n",
    "            targ_weights = gen_target()\n",
    "            points, labels = gen_dataset(num_points, targ_weights)\n",
    "            count(x-> x==1.0, labels) == num_points || break\n",
    "        end\n",
    "        \n",
    "        # SVM\n",
    "        weights = svm2(points, labels)\n",
    "        \n",
    "        for j in 1:num_points\n",
    "            if isapprox((labels[j]*weights'*points[j,:][:])[], 1.0)\n",
    "                cnt += 1\n",
    "            end\n",
    "        end\n",
    "        push!(counts, cnt)\n",
    "    end\n",
    "    figure(figsize=(5,5))\n",
    "    data = plt[:hist](counts, bins=[-0.5,0.5,1.5,2.5,3.5,4.5])\n",
    "    title(\"histgram\")\n",
    "    for i in 1:length(data[1])\n",
    "        println(i-1, \": \",round(Int,data[1][i]))\n",
    "    end\n",
    "    return mean(counts)\n",
    "end"
   ]
  },
  {
   "cell_type": "code",
   "execution_count": 12,
   "metadata": {
    "collapsed": false
   },
   "outputs": [
    {
     "data": {
      "image/png": "[encoded data removed]",
      "text/plain": [
       "PyPlot.Figure(PyObject <matplotlib.figure.Figure object at 0x7f18e0784eb8>)"
      ]
     },
     "metadata": {},
     "output_type": "display_data"
    },
    {
     "name": "stdout",
     "output_type": "stream",
     "text": [
      "0: 0\n",
      "1: 0\n",
      "2: 7\n",
      "3: 993\n",
      "4: 0\n"
     ]
    },
    {
     "data": {
      "text/plain": [
       "2.993"
      ]
     },
     "execution_count": 12,
     "metadata": {},
     "output_type": "execute_result"
    }
   ],
   "source": [
    "count_sv(100, num_iterations=1000)"
   ]
  },
  {
   "cell_type": "code",
   "execution_count": 13,
   "metadata": {
    "collapsed": false
   },
   "outputs": [
    {
     "data": {
      "image/png": "[encoded data removed]",
      "text/plain": [
       "PyPlot.Figure(PyObject <matplotlib.figure.Figure object at 0x7f18e0824400>)"
      ]
     },
     "metadata": {},
     "output_type": "display_data"
    },
    {
     "name": "stdout",
     "output_type": "stream",
     "text": [
      "0: 0\n",
      "1: 0\n",
      "2: 34\n",
      "3: 9966\n",
      "4: 0\n"
     ]
    },
    {
     "data": {
      "text/plain": [
       "2.9966"
      ]
     },
     "execution_count": 13,
     "metadata": {},
     "output_type": "execute_result"
    }
   ],
   "source": [
    "count_sv(100, num_iterations=10000)"
   ]
  },
  {
   "cell_type": "code",
   "execution_count": null,
   "metadata": {
    "collapsed": true
   },
   "outputs": [],
   "source": []
  },
  {
   "cell_type": "markdown",
   "metadata": {},
   "source": [
    "## Appendix: SVM with dual problem"
   ]
  },
  {
   "cell_type": "markdown",
   "metadata": {},
   "source": [
    "In this implementation, support vectors are calculated from $\\alpha_i > 10^{-5}$. If there is no such $\\alpha_i$, this implementation fails. Admitting smaller $\\alpha$ avoids this problem, but then the value of $b$ depends on which support vector is used for calculating $b$. "
   ]
  },
  {
   "cell_type": "code",
   "execution_count": 14,
   "metadata": {
    "collapsed": false
   },
   "outputs": [
    {
     "data": {
      "text/plain": [
       "svm3 (generic function with 1 method)"
      ]
     },
     "execution_count": 14,
     "metadata": {},
     "output_type": "execute_result"
    }
   ],
   "source": [
    "using MathProgBase\n",
    "\n",
    "# QP implementation of SVM, dual problem version\n",
    "function svm3(x, y)\n",
    "    #num_features = length(x[1,:][:])\n",
    "    num_points = length(y)\n",
    "    #q = y .* x[:,1:num_features]\n",
    "    q = y .* x\n",
    "    Q = q * q'\n",
    "    c = -ones(num_points)\n",
    "    A = y'\n",
    "    sol = quadprog(c, Q, A, '=', 0.0, 0.0, Inf, IpoptSolver(print_level=0))\n",
    "    a = sol.sol\n",
    "    \n",
    "    # we need small positive to guarantee a unieuq 'b'\n",
    "    #sv = find(a .> 0)\n",
    "    sv = find(a .> 1e-5)\n",
    "    \n",
    "    # backup in case all a is to small\n",
    "    if length(sv) == 0\n",
    "        sv = find(a .> 0)\n",
    "    end\n",
    "    \n",
    "    w = sum(a[sv] .* y[sv] .* x[sv, :], 1)'\n",
    "    b = y[sv[1]]- w' * x[sv[1],:]'\n",
    "    return [b;w], length(sv)\n",
    "end"
   ]
  },
  {
   "cell_type": "code",
   "execution_count": 15,
   "metadata": {
    "collapsed": false
   },
   "outputs": [
    {
     "data": {
      "text/plain": [
       "simulate_svm_vs_pla2 (generic function with 1 method)"
      ]
     },
     "execution_count": 15,
     "metadata": {},
     "output_type": "execute_result"
    }
   ],
   "source": [
    "function simulate_svm_vs_pla2(num_points; num_iterations=1000, num_mcpoints=100000, plot=false)\n",
    "    svm_win = 0\n",
    "    for idx in 1:num_iterations\n",
    "        # Generate data\n",
    "        targ_weights = nothing\n",
    "        points = nothing\n",
    "        labels = nothing\n",
    "        while true\n",
    "            targ_weights = gen_target()\n",
    "            points, labels = gen_dataset(num_points, targ_weights)\n",
    "            count(x-> x==1.0, labels) == num_points || break\n",
    "        end\n",
    "        \n",
    "        # PLA\n",
    "        weights, _ = perceptron(points, labels)\n",
    "        pla_prob = prob_difference(targ_weights, weights, num_mcpoints=num_mcpoints)\n",
    "        \n",
    "        # SVM\n",
    "        #weights = svm(points, labels)\n",
    "        weights, _ = svm3(points[:,2:3], labels)\n",
    "        svm_prob = prob_difference(targ_weights, weights, num_mcpoints=num_mcpoints)\n",
    "        \n",
    "        if svm_prob < pla_prob\n",
    "            svm_win += 1\n",
    "        end\n",
    "        \n",
    "        if plot == true && idx == num_iterations\n",
    "            plot_svm(points, labels, targ_weights, weights)\n",
    "        end\n",
    "    end\n",
    "    return svm_win/num_iterations\n",
    "end"
   ]
  },
  {
   "cell_type": "code",
   "execution_count": 17,
   "metadata": {
    "collapsed": false
   },
   "outputs": [
    {
     "data": {
      "image/png": "[encoded data removed]",
      "text/plain": [
       "PyPlot.Figure(PyObject <matplotlib.figure.Figure object at 0x7f18e0128a58>)"
      ]
     },
     "metadata": {},
     "output_type": "display_data"
    },
    {
     "data": {
      "text/plain": [
       "0.588"
      ]
     },
     "execution_count": 17,
     "metadata": {},
     "output_type": "execute_result"
    }
   ],
   "source": [
    "simulate_svm_vs_pla2(10, plot=true)"
   ]
  },
  {
   "cell_type": "code",
   "execution_count": 18,
   "metadata": {
    "collapsed": false
   },
   "outputs": [
    {
     "data": {
      "image/png": "[encoded data removed]",
      "text/plain": [
       "PyPlot.Figure(PyObject <matplotlib.figure.Figure object at 0x7f18e00978d0>)"
      ]
     },
     "metadata": {},
     "output_type": "display_data"
    },
    {
     "data": {
      "text/plain": [
       "0.628"
      ]
     },
     "execution_count": 18,
     "metadata": {},
     "output_type": "execute_result"
    }
   ],
   "source": [
    "simulate_svm_vs_pla2(100, plot=true)"
   ]
  },
  {
   "cell_type": "code",
   "execution_count": 19,
   "metadata": {
    "collapsed": false
   },
   "outputs": [
    {
     "data": {
      "text/plain": [
       "count_sv2 (generic function with 1 method)"
      ]
     },
     "execution_count": 19,
     "metadata": {},
     "output_type": "execute_result"
    }
   ],
   "source": [
    "using PyCall,PyPlot\n",
    "@pyimport seaborn as sns\n",
    "\n",
    "function count_sv2(num_points; num_iterations=1000)\n",
    "    counts = []\n",
    "    \n",
    "    for idx in 1:num_iterations\n",
    "        cnt = 0\n",
    "        # Generate data\n",
    "        targ_weights = nothing\n",
    "        points = nothing\n",
    "        labels = nothing\n",
    "        while true\n",
    "            targ_weights = gen_target()\n",
    "            points, labels = gen_dataset(num_points, targ_weights)\n",
    "            count(x-> x==1.0, labels) == num_points || break\n",
    "        end\n",
    "        \n",
    "        # SVM\n",
    "        weights, _ = svm3(points[:,2:3], labels)\n",
    "        for j in 1:num_points\n",
    "            #if isapprox((labels[j]*weights'*points[j,:][:])[], 1.0)\n",
    "            if (labels[j]*weights'*points[j,:][:])[] - 1.0 < 1e-5\n",
    "                cnt += 1\n",
    "            end\n",
    "        end\n",
    "        \n",
    "        # Here is more accurate\n",
    "        # _, cnt = svm3(points[:,2:3], labels)\n",
    "\n",
    "        push!(counts, cnt)\n",
    "    end\n",
    "    figure(figsize=(5,5))\n",
    "    data = plt[:hist](counts, bins=[-0.5,0.5,1.5,2.5,3.5,4.5,5])\n",
    "    title(\"histgram\")\n",
    "    for i in 1:length(data[1])\n",
    "        println(i-1, \": \",round(Int,data[1][i]))\n",
    "    end\n",
    "    return mean(counts)\n",
    "end"
   ]
  },
  {
   "cell_type": "code",
   "execution_count": 20,
   "metadata": {
    "collapsed": false
   },
   "outputs": [
    {
     "data": {
      "image/png": "[encoded data removed]",
      "text/plain": [
       "PyPlot.Figure(PyObject <matplotlib.figure.Figure object at 0x7f18e073b828>)"
      ]
     },
     "metadata": {},
     "output_type": "display_data"
    },
    {
     "name": "stdout",
     "output_type": "stream",
     "text": [
      "0: 0\n",
      "1: 0\n",
      "2: 5\n",
      "3: 995\n",
      "4: 0\n",
      "5: 0\n"
     ]
    },
    {
     "data": {
      "text/plain": [
       "2.995"
      ]
     },
     "execution_count": 20,
     "metadata": {},
     "output_type": "execute_result"
    }
   ],
   "source": [
    "count_sv2(100)"
   ]
  },
  {
   "cell_type": "code",
   "execution_count": 22,
   "metadata": {
    "collapsed": false
   },
   "outputs": [
    {
     "data": {
      "text/plain": [
       "svm_win_plot2 (generic function with 2 methods)"
      ]
     },
     "execution_count": 22,
     "metadata": {},
     "output_type": "execute_result"
    }
   ],
   "source": [
    "using PyCall,PyPlot\n",
    "@pyimport seaborn as sns\n",
    "\n",
    "function svm_win_plot2(num_points, iterations=10)\n",
    "    prob_list = []\n",
    "    for idx in 1:iterations\n",
    "        prob = simulate_svm_vs_pla2(num_points)\n",
    "        push!(prob_list, prob)\n",
    "    end\n",
    "    fig = figure(figsize=(5,5))\n",
    "    plot(prob_list, linestyle=\"None\", marker=\".\")\n",
    "    grid(\"on\")\n",
    "    title(\"svm win prob\")\n",
    "    return prob_list\n",
    "end"
   ]
  },
  {
   "cell_type": "code",
   "execution_count": 23,
   "metadata": {
    "collapsed": false
   },
   "outputs": [
    {
     "data": {
      "image/png": "[encoded data removed]",
      "text/plain": [
       "PyPlot.Figure(PyObject <matplotlib.figure.Figure object at 0x7f18e093bd30>)"
      ]
     },
     "metadata": {},
     "output_type": "display_data"
    },
    {
     "data": {
      "text/plain": [
       "10-element Array{Any,1}:\n",
       " 0.642\n",
       " 0.656\n",
       " 0.624\n",
       " 0.618\n",
       " 0.602\n",
       " 0.645\n",
       " 0.643\n",
       " 0.629\n",
       " 0.651\n",
       " 0.651"
      ]
     },
     "execution_count": 23,
     "metadata": {},
     "output_type": "execute_result"
    }
   ],
   "source": [
    "svm_win_plot2(100)"
   ]
  },
  {
   "cell_type": "code",
   "execution_count": 26,
   "metadata": {
    "collapsed": false
   },
   "outputs": [
    {
     "data": {
      "image/png": "[encoded data removed]",
      "text/plain": [
       "PyPlot.Figure(PyObject <matplotlib.figure.Figure object at 0x7f1161a93358>)"
      ]
     },
     "metadata": {},
     "output_type": "display_data"
    },
    {
     "name": "stdout",
     "output_type": "stream",
     "text": [
      "39115.058745 seconds (3.66 G allocations: 21.854 TB, 7.73% gc time)\n"
     ]
    },
    {
     "data": {
      "text/plain": [
       "1000-element Array{Any,1}:\n",
       " 0.639\n",
       " 0.629\n",
       " 0.629\n",
       " 0.652\n",
       " 0.651\n",
       " 0.62 \n",
       " 0.65 \n",
       " 0.657\n",
       " 0.643\n",
       " 0.663\n",
       " 0.626\n",
       " 0.638\n",
       " 0.627\n",
       " ⋮    \n",
       " 0.64 \n",
       " 0.636\n",
       " 0.632\n",
       " 0.637\n",
       " 0.656\n",
       " 0.664\n",
       " 0.619\n",
       " 0.643\n",
       " 0.651\n",
       " 0.649\n",
       " 0.653\n",
       " 0.643"
      ]
     },
     "execution_count": 26,
     "metadata": {},
     "output_type": "execute_result"
    }
   ],
   "source": [
    "@time result_with_100points = svm_win_plot2(100, 1000)"
   ]
  },
  {
   "cell_type": "code",
   "execution_count": 27,
   "metadata": {
    "collapsed": false
   },
   "outputs": [
    {
     "name": "stdout",
     "output_type": "stream",
     "text": [
      "result_with_100points = Any[0.639,0.629,0.629,0.652,0.651,0.62,0.65,0.657,0.643,0.663,0.626,0.638,0.627,0.642,0.635,0.637,0.653,0.653,0.621,0.642,0.618,0.647,0.64,0.619,0.65,0.632,0.663,0.661,0.636,0.64,0.663,0.637,0.638,0.654,0.617,0.608,0.62,0.644,0.645,0.675,0.65,0.632,0.632,0.651,0.634,0.625,0.627,0.646,0.648,0.639,0.641,0.641,0.633,0.632,0.657,0.639,0.644,0.642,0.637,0.626,0.641,0.654,0.643,0.631,0.63,0.635,0.647,0.615,0.674,0.64,0.674,0.639,0.658,0.646,0.644,0.642,0.645,0.645,0.65,0.658,0.643,0.638,0.624,0.675,0.646,0.64,0.625,0.658,0.64,0.649,0.645,0.64,0.662,0.65,0.65,0.632,0.627,0.64,0.669,0.652,0.647,0.638,0.62,0.641,0.65,0.637,0.666,0.662,0.643,0.634,0.64,0.657,0.648,0.632,0.612,0.655,0.647,0.621,0.635,0.637,0.621,0.645,0.636,0.611,0.633,0.643,0.623,0.633,0.64,0.633,0.638,0.691,0.649,0.656,0.662,0.659,0.64,0.658,0.648,0.633,0.642,0.624,0.619,0.652,0.655,0.66,0.642,0.667,0.653,0.666,0.634,0.645,0.62,0.646,0.645,0.646,0.637,0.641,0.643,0.632,0.644,0.655,0.647,0.635,0.64,0.652,0.641,0.642,0.665,0.617,0.653,0.631,0.621,0.641,0.641,0.64,0.621,0.619,0.66,0.643,0.639,0.656,0.647,0.631,0.663,0.64,0.622,0.623,0.645,0.618,0.667,0.659,0.652,0.638,0.656,0.649,0.657,0.673,0.635,0.647,0.627,0.651,0.65,0.627,0.647,0.653,0.636,0.649,0.656,0.641,0.637,0.638,0.64,0.64,0.678,0.655,0.617,0.639,0.648,0.649,0.635,0.634,0.654,0.641,0.632,0.631,0.607,0.629,0.659,0.622,0.631,0.617,0.619,0.668,0.684,0.635,0.635,0.63,0.661,0.656,0.671,0.624,0.646,0.661,0.644,0.634,0.638,0.624,0.651,0.638,0.655,0.655,0.636,0.627,0.634,0.657,0.651,0.646,0.63,0.657,0.66,0.627,0.62,0.619,0.623,0.656,0.668,0.658,0.638,0.654,0.621,0.632,0.631,0.649,0.641,0.642,0.619,0.639,0.648,0.65,0.637,0.618,0.678,0.637,0.643,0.65,0.653,0.634,0.628,0.66,0.658,0.657,0.638,0.631,0.629,0.645,0.628,0.667,0.648,0.654,0.662,0.649,0.664,0.654,0.622,0.619,0.646,0.633,0.658,0.648,0.645,0.626,0.643,0.637,0.649,0.663,0.637,0.639,0.635,0.645,0.624,0.63,0.65,0.628,0.662,0.631,0.637,0.654,0.645,0.628,0.628,0.634,0.656,0.629,0.673,0.655,0.65,0.647,0.659,0.635,0.661,0.661,0.661,0.645,0.615,0.666,0.624,0.672,0.634,0.634,0.635,0.637,0.627,0.632,0.654,0.646,0.634,0.667,0.662,0.663,0.64,0.641,0.649,0.625,0.653,0.651,0.657,0.651,0.655,0.634,0.617,0.628,0.656,0.659,0.668,0.649,0.618,0.663,0.628,0.664,0.67,0.639,0.628,0.651,0.625,0.664,0.64,0.645,0.633,0.653,0.645,0.653,0.642,0.619,0.648,0.64,0.657,0.656,0.634,0.656,0.642,0.656,0.667,0.648,0.66,0.644,0.665,0.619,0.636,0.642,0.648,0.663,0.636,0.644,0.637,0.658,0.642,0.639,0.643,0.631,0.621,0.624,0.644,0.609,0.638,0.621,0.629,0.669,0.639,0.664,0.596,0.623,0.651,0.642,0.661,0.641,0.676,0.668,0.62,0.642,0.638,0.645,0.644,0.644,0.631,0.641,0.655,0.641,0.628,0.649,0.656,0.637,0.638,0.658,0.644,0.624,0.633,0.63,0.643,0.644,0.657,0.67,0.647,0.667,0.621,0.647,0.641,0.627,0.673,0.631,0.612,0.651,0.668,0.633,0.623,0.651,0.637,0.655,0.638,0.627,0.636,0.661,0.648,0.63,0.618,0.652,0.641,0.641,0.646,0.647,0.615,0.635,0.66,0.655,0.662,0.632,0.611,0.628,0.659,0.659,0.669,0.641,0.642,0.654,0.628,0.639,0.642,0.658,0.627,0.645,0.64,0.645,0.658,0.626,0.626,0.646,0.667,0.65,0.612,0.62,0.642,0.623,0.645,0.648,0.628,0.639,0.615,0.647,0.668,0.655,0.667,0.653,0.637,0.632,0.649,0.619,0.622,0.614,0.649,0.648,0.66,0.657,0.63,0.626,0.637,0.636,0.645,0.634,0.635,0.666,0.665,0.633,0.649,0.635,0.664,0.663,0.645,0.65,0.635,0.643,0.616,0.652,0.644,0.638,0.636,0.65,0.629,0.635,0.673,0.655,0.635,0.643,0.638,0.633,0.639,0.646,0.642,0.655,0.636,0.67,0.649,0.665,0.614,0.662,0.648,0.639,0.642,0.641,0.644,0.639,0.636,0.635,0.656,0.647,0.65,0.628,0.657,0.628,0.679,0.643,0.659,0.645,0.647,0.646,0.633,0.642,0.657,0.667,0.635,0.653,0.647,0.648,0.656,0.658,0.632,0.614,0.625,0.628,0.632,0.649,0.643,0.612,0.665,0.633,0.634,0.627,0.614,0.648,0.638,0.638,0.639,0.625,0.652,0.622,0.622,0.636,0.651,0.67,0.634,0.618,0.639,0.662,0.651,0.643,0.642,0.648,0.635,0.647,0.634,0.636,0.64,0.621,0.651,0.626,0.652,0.635,0.614,0.657,0.631,0.65,0.655,0.63,0.657,0.62,0.649,0.648,0.652,0.658,0.632,0.638,0.609,0.631,0.657,0.624,0.644,0.644,0.654,0.636,0.633,0.641,0.651,0.647,0.653,0.635,0.609,0.638,0.621,0.634,0.647,0.631,0.652,0.656,0.669,0.64,0.653,0.624,0.684,0.647,0.65,0.66,0.601,0.654,0.628,0.648,0.639,0.641,0.625,0.619,0.645,0.624,0.617,0.666,0.611,0.628,0.619,0.643,0.624,0.633,0.616,0.634,0.618,0.648,0.637,0.662,0.647,0.65,0.648,0.658,0.622,0.619,0.63,0.64,0.668,0.651,0.655,0.648,0.641,0.633,0.641,0.641,0.645,0.639,0.627,0.661,0.66,0.638,0.653,0.631,0.644,0.654,0.632,0.649,0.656,0.641,0.654,0.619,0.612,0.653,0.651,0.657,0.635,0.637,0.65,0.64,0.664,0.621,0.632,0.656,0.628,0.638,0.649,0.663,0.62,0.655,0.635,0.682,0.655,0.646,0.645,0.651,0.641,0.654,0.645,0.618,0.641,0.65,0.634,0.637,0.676,0.629,0.654,0.638,0.638,0.637,0.654,0.654,0.632,0.633,0.646,0.627,0.64,0.648,0.637,0.662,0.651,0.618,0.641,0.65,0.651,0.651,0.658,0.632,0.623,0.673,0.641,0.656,0.646,0.648,0.651,0.639,0.637,0.629,0.66,0.655,0.648,0.639,0.615,0.649,0.629,0.603,0.615,0.637,0.656,0.626,0.634,0.657,0.681,0.66,0.635,0.654,0.63,0.624,0.66,0.631,0.629,0.633,0.625,0.648,0.662,0.639,0.647,0.63,0.645,0.637,0.633,0.638,0.615,0.624,0.642,0.668,0.627,0.607,0.67,0.652,0.65,0.667,0.635,0.663,0.636,0.654,0.645,0.698,0.633,0.656,0.665,0.654,0.655,0.632,0.67,0.645,0.648,0.658,0.621,0.619,0.644,0.64,0.631,0.651,0.645,0.634,0.656,0.623,0.639,0.661,0.621,0.62,0.662,0.62,0.624,0.657,0.629,0.68,0.659,0.664,0.623,0.632,0.655,0.662,0.664,0.645,0.63,0.629,0.634,0.665,0.665,0.654,0.64,0.638,0.659,0.669,0.651,0.644,0.638,0.679,0.653,0.66,0.643,0.646,0.642,0.645,0.632,0.604,0.646,0.631,0.648,0.626,0.624,0.648,0.648,0.66,0.638,0.641,0.664,0.61,0.649,0.635,0.643,0.652,0.632,0.67,0.619,0.638,0.62,0.624,0.633,0.671,0.618,0.662,0.638,0.615,0.635,0.629,0.651,0.64,0.65,0.638,0.647,0.649,0.636,0.627,0.613,0.673,0.63,0.642,0.641,0.626,0.646,0.658,0.676,0.635,0.634,0.676,0.654,0.626,0.646,0.614,0.624,0.636,0.64,0.636,0.632,0.637,0.656,0.664,0.619,0.643,0.651,0.649,0.653,0.643]\n"
     ]
    },
    {
     "data": {
      "text/plain": [
       "1000-element Array{Any,1}:\n",
       " 0.639\n",
       " 0.629\n",
       " 0.629\n",
       " 0.652\n",
       " 0.651\n",
       " 0.62 \n",
       " 0.65 \n",
       " 0.657\n",
       " 0.643\n",
       " 0.663\n",
       " 0.626\n",
       " 0.638\n",
       " 0.627\n",
       " ⋮    \n",
       " 0.64 \n",
       " 0.636\n",
       " 0.632\n",
       " 0.637\n",
       " 0.656\n",
       " 0.664\n",
       " 0.619\n",
       " 0.643\n",
       " 0.651\n",
       " 0.649\n",
       " 0.653\n",
       " 0.643"
      ]
     },
     "execution_count": 27,
     "metadata": {},
     "output_type": "execute_result"
    }
   ],
   "source": [
    "@show(result_with_100points)"
   ]
  },
  {
   "cell_type": "code",
   "execution_count": 42,
   "metadata": {
    "collapsed": false
   },
   "outputs": [
    {
     "data": {
      "text/plain": [
       "10x2 Array{Any,2}:\n",
       " 0.596  0.698\n",
       " 0.601  0.691\n",
       " 0.603  0.684\n",
       " 0.604  0.684\n",
       " 0.607  0.682\n",
       " 0.607  0.681\n",
       " 0.608  0.68 \n",
       " 0.609  0.679\n",
       " 0.609  0.679\n",
       " 0.609  0.678"
      ]
     },
     "execution_count": 42,
     "metadata": {},
     "output_type": "execute_result"
    }
   ],
   "source": [
    "[sort(result_with_100points)[1:10] sort(result_with_100points, rev=true)[1:10]]"
   ]
  },
  {
   "cell_type": "code",
   "execution_count": 39,
   "metadata": {
    "collapsed": false
   },
   "outputs": [
    {
     "data": {
      "text/plain": [
       "question9_histgram (generic function with 1 method)"
      ]
     },
     "execution_count": 39,
     "metadata": {},
     "output_type": "execute_result"
    }
   ],
   "source": [
    "function question9_histgram()\n",
    "    figure(figsize=(5,5))\n",
    "    data = plt[:hist](result_with_100points)\n",
    "    title(\"Histgram of SVM Win\")\n",
    "    return data\n",
    "end"
   ]
  },
  {
   "cell_type": "code",
   "execution_count": 40,
   "metadata": {
    "collapsed": false
   },
   "outputs": [
    {
     "data": {
      "image/png": "[encoded data removed]",
      "text/plain": [
       "PyPlot.Figure(PyObject <matplotlib.figure.Figure object at 0x7f115e294278>)"
      ]
     },
     "metadata": {},
     "output_type": "display_data"
    },
    {
     "data": {
      "text/plain": [
       "([4.0,32.0,112.0,195.0,259.0,240.0,110.0,37.0,9.0,2.0],[0.596,0.6062,0.6164,0.6265999999999999,0.6367999999999999,0.647,0.6572,0.6674,0.6776,0.6878,0.698],Any[PyObject <matplotlib.patches.Rectangle object at 0x7f115de64c50>,PyObject <matplotlib.patches.Rectangle object at 0x7f115de6b518>,PyObject <matplotlib.patches.Rectangle object at 0x7f115de6bc18>,PyObject <matplotlib.patches.Rectangle object at 0x7f115de72518>,PyObject <matplotlib.patches.Rectangle object at 0x7f115de72dd8>,PyObject <matplotlib.patches.Rectangle object at 0x7f115de786d8>,PyObject <matplotlib.patches.Rectangle object at 0x7f115de78fd0>,PyObject <matplotlib.patches.Rectangle object at 0x7f115de7d898>,PyObject <matplotlib.patches.Rectangle object at 0x7f115de84358>,PyObject <matplotlib.patches.Rectangle object at 0x7f115de84a58>])"
      ]
     },
     "execution_count": 40,
     "metadata": {},
     "output_type": "execute_result"
    }
   ],
   "source": [
    "question9_histgram()"
   ]
  },
  {
   "cell_type": "code",
   "execution_count": null,
   "metadata": {
    "collapsed": true
   },
   "outputs": [],
   "source": []
  }
 ],
 "metadata": {
  "anaconda-cloud": {},
  "kernelspec": {
   "display_name": "Julia 0.4",
   "language": "julia",
   "name": "julia-0.4"
  },
  "language_info": {
   "file_extension": ".jl",
   "mimetype": "application/julia",
   "name": "julia",
   "version": "0.4.7"
  }
 },
 "nbformat": 4,
 "nbformat_minor": 0
}
