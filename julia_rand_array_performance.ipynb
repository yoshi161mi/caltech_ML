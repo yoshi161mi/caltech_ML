{
 "cells": [
  {
   "cell_type": "markdown",
   "metadata": {},
   "source": [
    "# Rand(Bool) is fast but sum(Rand(Bool, 10)) is not..."
   ]
  },
  {
   "cell_type": "markdown",
   "metadata": {},
   "source": [
    "## Full for-loop"
   ]
  },
  {
   "cell_type": "code",
   "execution_count": 70,
   "metadata": {
    "collapsed": false
   },
   "outputs": [
    {
     "data": {
      "text/plain": [
       "coin_experiment1 (generic function with 1 method)"
      ]
     },
     "execution_count": 70,
     "metadata": {},
     "output_type": "execute_result"
    }
   ],
   "source": [
    "function coin_experiment1()\n",
    "    ffst = Int32[]\n",
    "    frand = Int32[]\n",
    "    fmin = Int32[]\n",
    "    for i in 1:100000\n",
    "        crand = rand(1:1000)\n",
    "        tmin = 10\n",
    "        for j in 1:1000\n",
    "            tfreq = 0\n",
    "            for k in 1:10\n",
    "                tfreq += rand(Bool)\n",
    "            end\n",
    "            \n",
    "            if j == 1\n",
    "                push!(ffst, tfreq)\n",
    "            end       \n",
    "            if j == crand\n",
    "                push!(frand, tfreq)\n",
    "            end\n",
    "            \n",
    "            if tfreq < tmin\n",
    "                tmin = tfreq\n",
    "            end\n",
    "        end\n",
    "        push!(fmin, tmin)\n",
    "    end\n",
    "    return [mean(ffst)/10, mean(frand)/10, mean(fmin)/10]\n",
    "end"
   ]
  },
  {
   "cell_type": "code",
   "execution_count": 71,
   "metadata": {
    "collapsed": false
   },
   "outputs": [
    {
     "name": "stdout",
     "output_type": "stream",
     "text": [
      "  4.847132 seconds (10.90 k allocations: 3.484 MB)\n"
     ]
    },
    {
     "data": {
      "text/plain": [
       "3-element Array{Float64,1}:\n",
       " 0.50041 \n",
       " 0.500474\n",
       " 0.037935"
      ]
     },
     "execution_count": 71,
     "metadata": {},
     "output_type": "execute_result"
    }
   ],
   "source": [
    "@time coin_experiment1()"
   ]
  },
  {
   "cell_type": "markdown",
   "metadata": {},
   "source": [
    "## Creating 1D array with rand()"
   ]
  },
  {
   "cell_type": "code",
   "execution_count": 10,
   "metadata": {
    "collapsed": false
   },
   "outputs": [
    {
     "data": {
      "text/plain": [
       "coin_experiment2 (generic function with 1 method)"
      ]
     },
     "execution_count": 10,
     "metadata": {},
     "output_type": "execute_result"
    }
   ],
   "source": [
    "function coin_experiment2()\n",
    "    ffst = Int32[]\n",
    "    frand = Int32[]\n",
    "    fmin = Int32[]\n",
    "    for i in 1:100000\n",
    "        crand = rand(1:1000)\n",
    "        tmin = 10\n",
    "        for j in 1:1000\n",
    "#             tfreq = 0\n",
    "#             for k in 1:10\n",
    "#                 tfreq += rand(Bool)\n",
    "#             end\n",
    "            tfreq = sum(rand(Bool,(10,1)))\n",
    "            if j == 1\n",
    "                push!(ffst, tfreq)\n",
    "            end\n",
    "            \n",
    "            if j == crand\n",
    "                push!(frand, tfreq)\n",
    "            end\n",
    "            \n",
    "            if tfreq < tmin\n",
    "                tmin = tfreq\n",
    "            end\n",
    "        end\n",
    "        push!(fmin, tmin)\n",
    "    end\n",
    "    return [mean(ffst)/10, mean(frand)/10, mean(fmin)/10]\n",
    "end"
   ]
  },
  {
   "cell_type": "code",
   "execution_count": 11,
   "metadata": {
    "collapsed": false
   },
   "outputs": [
    {
     "name": "stdout",
     "output_type": "stream",
     "text": [
      " 24.641817 seconds (200.01 M allocations: 10.434 GB, 10.18% gc time)\n"
     ]
    },
    {
     "data": {
      "text/plain": [
       "3-element Array{Float64,1}:\n",
       " 0.499869\n",
       " 0.499632\n",
       " 0.037475"
      ]
     },
     "execution_count": 11,
     "metadata": {},
     "output_type": "execute_result"
    }
   ],
   "source": [
    "@time coin_experiment2()"
   ]
  },
  {
   "cell_type": "markdown",
   "metadata": {},
   "source": [
    "## Creating 2D array with rand()"
   ]
  },
  {
   "cell_type": "code",
   "execution_count": 15,
   "metadata": {
    "collapsed": false
   },
   "outputs": [
    {
     "data": {
      "text/plain": [
       "coin_experiment3 (generic function with 2 methods)"
      ]
     },
     "execution_count": 15,
     "metadata": {},
     "output_type": "execute_result"
    }
   ],
   "source": [
    "function coin_experiment3()\n",
    "    ffst = Int32[]\n",
    "    frand = Int32[]\n",
    "    fmin = Int32[]\n",
    "    for i in 1:100000\n",
    "        coin10x1000_fliped = sum(rand(Bool, (1000,10)), 2)\n",
    "        crand = rand(1:1000)\n",
    "        minval, cmin = findmin(coin10x1000_fliped)\n",
    "        push!(ffst, coin10x1000_fliped[1])\n",
    "        push!(frand, coin10x1000_fliped[crand])\n",
    "        push!(fmin, coin10x1000_fliped[cmin])\n",
    "    end\n",
    "    return [mean(ffst)/10, mean(frand)/10, mean(fmin)/10]\n",
    "end"
   ]
  },
  {
   "cell_type": "code",
   "execution_count": 16,
   "metadata": {
    "collapsed": false
   },
   "outputs": [
    {
     "name": "stdout",
     "output_type": "stream",
     "text": [
      "  6.718427 seconds (1.31 M allocations: 1.731 GB, 2.56% gc time)\n"
     ]
    },
    {
     "data": {
      "text/plain": [
       "3-element Array{Float64,1}:\n",
       " 0.500858\n",
       " 0.49965 \n",
       " 0.037425"
      ]
     },
     "execution_count": 16,
     "metadata": {},
     "output_type": "execute_result"
    }
   ],
   "source": [
    "@time coin_experiment3()"
   ]
  },
  {
   "cell_type": "markdown",
   "metadata": {},
   "source": [
    "# The cause is rand(Bool,10) or sum()?"
   ]
  },
  {
   "cell_type": "code",
   "execution_count": 24,
   "metadata": {
    "collapsed": false
   },
   "outputs": [
    {
     "data": {
      "text/plain": [
       "rand_experiment1 (generic function with 1 method)"
      ]
     },
     "execution_count": 24,
     "metadata": {},
     "output_type": "execute_result"
    }
   ],
   "source": [
    "function rand_experiment1()\n",
    "    for i in 1:100_000_000\n",
    "        rand(Bool,10)\n",
    "    end\n",
    "    return\n",
    "end"
   ]
  },
  {
   "cell_type": "code",
   "execution_count": 25,
   "metadata": {
    "collapsed": false
   },
   "outputs": [
    {
     "name": "stdout",
     "output_type": "stream",
     "text": [
      " 15.080562 seconds (200.00 M allocations: 8.941 GB, 8.83% gc time)\n"
     ]
    }
   ],
   "source": [
    "@time rand_experiment1()"
   ]
  },
  {
   "cell_type": "code",
   "execution_count": 27,
   "metadata": {
    "collapsed": false
   },
   "outputs": [
    {
     "data": {
      "text/plain": [
       "rand_experiment2 (generic function with 1 method)"
      ]
     },
     "execution_count": 27,
     "metadata": {},
     "output_type": "execute_result"
    }
   ],
   "source": [
    "function rand_experiment2()\n",
    "    for i in 1:1_000_000_000 # 10 times of experiment1\n",
    "        rand(Bool)\n",
    "    end\n",
    "    return\n",
    "end"
   ]
  },
  {
   "cell_type": "code",
   "execution_count": 28,
   "metadata": {
    "collapsed": false
   },
   "outputs": [
    {
     "name": "stdout",
     "output_type": "stream",
     "text": [
      "  3.938521 seconds (2.35 k allocations: 118.228 KB)\n"
     ]
    }
   ],
   "source": [
    "@time rand_experiment2()"
   ]
  },
  {
   "cell_type": "code",
   "execution_count": 37,
   "metadata": {
    "collapsed": false
   },
   "outputs": [
    {
     "data": {
      "text/plain": [
       "rand_experiment3 (generic function with 1 method)"
      ]
     },
     "execution_count": 37,
     "metadata": {},
     "output_type": "execute_result"
    }
   ],
   "source": [
    "function rand_experiment3()\n",
    "    for i in 1:100_000_000 # same as experiment1\n",
    "        [rand(Bool), rand(Bool), rand(Bool), rand(Bool), rand(Bool), rand(Bool), rand(Bool), rand(Bool), rand(Bool), rand(Bool)]\n",
    "    end\n",
    "    return\n",
    "end"
   ]
  },
  {
   "cell_type": "code",
   "execution_count": 38,
   "metadata": {
    "collapsed": false
   },
   "outputs": [
    {
     "name": "stdout",
     "output_type": "stream",
     "text": [
      " 14.145010 seconds (100.01 M allocations: 7.451 GB, 7.79% gc time)\n"
     ]
    }
   ],
   "source": [
    "@time rand_experiment3()"
   ]
  },
  {
   "cell_type": "code",
   "execution_count": 42,
   "metadata": {
    "collapsed": false
   },
   "outputs": [
    {
     "data": {
      "text/plain": [
       "rand_experiment4 (generic function with 1 method)"
      ]
     },
     "execution_count": 42,
     "metadata": {},
     "output_type": "execute_result"
    }
   ],
   "source": [
    "function rand_experiment4() # no rand()\n",
    "    for i in 1:100_000_000 # same as experiment1\n",
    "        [i for i in 1:10] # list comprehension is not fast in julia\n",
    "    end\n",
    "    return\n",
    "end"
   ]
  },
  {
   "cell_type": "code",
   "execution_count": 41,
   "metadata": {
    "collapsed": false
   },
   "outputs": [
    {
     "name": "stdout",
     "output_type": "stream",
     "text": [
      " 14.288016 seconds (100.01 M allocations: 13.411 GB, 14.38% gc time)\n"
     ]
    }
   ],
   "source": [
    "@time rand_experiment4()"
   ]
  },
  {
   "cell_type": "markdown",
   "metadata": {},
   "source": [
    "# Conclusion"
   ]
  },
  {
   "cell_type": "markdown",
   "metadata": {},
   "source": [
    "Julia seems to have a problem in creating array efficiently."
   ]
  },
  {
   "cell_type": "code",
   "execution_count": null,
   "metadata": {
    "collapsed": true
   },
   "outputs": [],
   "source": []
  }
 ],
 "metadata": {
  "anaconda-cloud": {},
  "kernelspec": {
   "display_name": "Julia 0.4",
   "language": "julia",
   "name": "julia-0.4"
  },
  "language_info": {
   "file_extension": ".jl",
   "mimetype": "application/julia",
   "name": "julia",
   "version": "0.4.7"
  }
 },
 "nbformat": 4,
 "nbformat_minor": 0
}
