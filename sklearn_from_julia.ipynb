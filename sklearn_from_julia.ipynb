{
 "cells": [
  {
   "cell_type": "markdown",
   "metadata": {
    "collapsed": false
   },
   "source": [
    "# Tutorial\n",
    "\n",
    "http://scikit-learn.org/stable/tutorial/basic/tutorial.html"
   ]
  },
  {
   "cell_type": "code",
   "execution_count": 5,
   "metadata": {
    "collapsed": false
   },
   "outputs": [
    {
     "data": {
      "text/plain": [
       "Dict{Any,Any} with 5 entries:\n",
       "  \"images\"       => 1797x8x8 Array{Float64,3}:…\n",
       "  \"target_names\" => [0,1,2,3,4,5,6,7,8,9]\n",
       "  \"data\"         => 1797x64 Array{Float64,2}:…\n",
       "  \"DESCR\"        => \"Optical Recognition of Handwritten Digits Data Set\\n======…\n",
       "  \"target\"       => [0,1,2,3,4,5,6,7,8,9  …  5,4,8,8,4,9,0,8,9,8]"
      ]
     },
     "execution_count": 5,
     "metadata": {},
     "output_type": "execute_result"
    }
   ],
   "source": [
    "using PyCall\n",
    "@pyimport sklearn.datasets as datasets\n",
    "@pyimport sklearn.svm as svm\n",
    "digits = datasets.load_digits()"
   ]
  },
  {
   "cell_type": "code",
   "execution_count": 4,
   "metadata": {
    "collapsed": false
   },
   "outputs": [
    {
     "data": {
      "text/plain": [
       "1797x64 Array{Float64,2}:\n",
       " 0.0  0.0   5.0  13.0   9.0   1.0   0.0  …   6.0  13.0  10.0   0.0   0.0  0.0\n",
       " 0.0  0.0   0.0  12.0  13.0   5.0   0.0      0.0  11.0  16.0  10.0   0.0  0.0\n",
       " 0.0  0.0   0.0   4.0  15.0  12.0   0.0      0.0   3.0  11.0  16.0   9.0  0.0\n",
       " 0.0  0.0   7.0  15.0  13.0   1.0   0.0      7.0  13.0  13.0   9.0   0.0  0.0\n",
       " 0.0  0.0   0.0   1.0  11.0   0.0   0.0      0.0   2.0  16.0   4.0   0.0  0.0\n",
       " 0.0  0.0  12.0  10.0   0.0   0.0   0.0  …   9.0  16.0  16.0  10.0   0.0  0.0\n",
       " 0.0  0.0   0.0  12.0  13.0   0.0   0.0      1.0   9.0  15.0  11.0   3.0  0.0\n",
       " 0.0  0.0   7.0   8.0  13.0  16.0  15.0     13.0   5.0   0.0   0.0   0.0  0.0\n",
       " 0.0  0.0   9.0  14.0   8.0   1.0   0.0     11.0  16.0  15.0  11.0   1.0  0.0\n",
       " 0.0  0.0  11.0  12.0   0.0   0.0   0.0      9.0  12.0  13.0   3.0   0.0  0.0\n",
       " 0.0  0.0   1.0   9.0  15.0  11.0   0.0  …   1.0  10.0  13.0   3.0   0.0  0.0\n",
       " 0.0  0.0   0.0   0.0  14.0  13.0   1.0      0.0   1.0  13.0  16.0   1.0  0.0\n",
       " 0.0  0.0   5.0  12.0   1.0   0.0   0.0      3.0  11.0   8.0  13.0  12.0  4.0\n",
       " ⋮                            ⋮          ⋱               ⋮                   \n",
       " 0.0  1.0  10.0  16.0  15.0   2.0   0.0  …  10.0  15.0   2.0   0.0   0.0  0.0\n",
       " 0.0  0.0   4.0  14.0  15.0   6.0   0.0      4.0  13.0  15.0   9.0   0.0  0.0\n",
       " 0.0  0.0  10.0  16.0  15.0   1.0   0.0      6.0  13.0  10.0   4.0   0.0  0.0\n",
       " 0.0  0.0   0.0   1.0  12.0   6.0   0.0      0.0   0.0  14.0   9.0   0.0  0.0\n",
       " 0.0  0.0   8.0  16.0   3.0   0.0   1.0     10.0  16.0  10.0   1.0   0.0  0.0\n",
       " 0.0  0.0   5.0  12.0   8.0   0.0   1.0  …   6.0  12.0  12.0   3.0   0.0  0.0\n",
       " 0.0  0.0   0.0   3.0  15.0   4.0   0.0      0.0   1.0  16.0   4.0   0.0  0.0\n",
       " 0.0  0.0   4.0  10.0  13.0   6.0   0.0      2.0  14.0  15.0   9.0   0.0  0.0\n",
       " 0.0  0.0   6.0  16.0  13.0  11.0   1.0      6.0  16.0  14.0   6.0   0.0  0.0\n",
       " 0.0  0.0   1.0  11.0  15.0   1.0   0.0      2.0   9.0  13.0   6.0   0.0  0.0\n",
       " 0.0  0.0   2.0  10.0   7.0   0.0   0.0  …   5.0  12.0  16.0  12.0   0.0  0.0\n",
       " 0.0  0.0  10.0  14.0   8.0   1.0   0.0      8.0  12.0  14.0  12.0   1.0  0.0"
      ]
     },
     "execution_count": 4,
     "metadata": {},
     "output_type": "execute_result"
    }
   ],
   "source": [
    "digits[\"data\"]"
   ]
  },
  {
   "cell_type": "code",
   "execution_count": 6,
   "metadata": {
    "collapsed": false
   },
   "outputs": [
    {
     "data": {
      "text/plain": [
       "PyObject SVC(C=100.0, cache_size=200, class_weight=None, coef0=0.0,\n",
       "  decision_function_shape=None, degree=3, gamma=0.001, kernel='rbf',\n",
       "  max_iter=-1, probability=False, random_state=None, shrinking=True,\n",
       "  tol=0.001, verbose=False)"
      ]
     },
     "execution_count": 6,
     "metadata": {},
     "output_type": "execute_result"
    }
   ],
   "source": [
    "clf = svm.SVC(gamma=0.001, C=100.0)"
   ]
  },
  {
   "cell_type": "code",
   "execution_count": 21,
   "metadata": {
    "collapsed": false
   },
   "outputs": [
    {
     "data": {
      "text/plain": [
       "PyObject SVC(C=100.0, cache_size=200, class_weight=None, coef0=0.0,\n",
       "  decision_function_shape=None, degree=3, gamma=0.001, kernel='rbf',\n",
       "  max_iter=-1, probability=False, random_state=None, shrinking=True,\n",
       "  tol=0.001, verbose=False)"
      ]
     },
     "execution_count": 21,
     "metadata": {},
     "output_type": "execute_result"
    }
   ],
   "source": [
    "clf[:fit](digits[\"data\"][1:end-1,:], digits[\"target\"][1:end-1,:])"
   ]
  },
  {
   "cell_type": "code",
   "execution_count": 22,
   "metadata": {
    "collapsed": false
   },
   "outputs": [
    {
     "data": {
      "text/plain": [
       "1-element Array{Int64,1}:\n",
       " 8"
      ]
     },
     "execution_count": 22,
     "metadata": {},
     "output_type": "execute_result"
    }
   ],
   "source": [
    "clf[:predict](digits[\"data\"][end,:])"
   ]
  },
  {
   "cell_type": "code",
   "execution_count": null,
   "metadata": {
    "collapsed": true
   },
   "outputs": [],
   "source": []
  }
 ],
 "metadata": {
  "kernelspec": {
   "display_name": "Julia 0.4",
   "language": "julia",
   "name": "julia-0.4"
  },
  "language_info": {
   "file_extension": ".jl",
   "mimetype": "application/julia",
   "name": "julia",
   "version": "0.4.7"
  }
 },
 "nbformat": 4,
 "nbformat_minor": 1
}
