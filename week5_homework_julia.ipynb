{
 "cells": [
  {
   "cell_type": "markdown",
   "metadata": {},
   "source": [
    "# Homework 5"
   ]
  },
  {
   "cell_type": "markdown",
   "metadata": {},
   "source": [
    "## Linear Regression Error\n",
    "\n",
    "Consider a noisy target $y = {\\mathbf{w}^{*}}^\\intercal \\mathbf{x} + \\epsilon$, where $x \\in \\mathbb{R}^d$ (with the added coordinate $x_0 = 1$), $y \\in \\mathbf{R}$, $\\mathbf{w}^{∗}$ is an unknown vector, and $\\epsilon$ is a noise term with zero mean and $\\sigma^2$ variance. Assume $\\epsilon$ is independent of $x$\n",
    "and of all other $\\epsilon$'s. If linear regression is carried out using a training data set\n",
    "$\\mathcal{D} = \\{(\\mathbf{x}_1 ,y_1),\\ldots,(\\mathbf{x}_N ,y_N )\\}$, and outputs the\n",
    "parameter vector $\\mathbf{w}_\\mathrm{lin}$, it can be shown that the expected in-sample error $E_\\mathrm{in}$\n",
    "with respect to $\\mathcal{D}$ is given by:\n",
    "$$\\mathbb{E}_\\mathcal{D} [ E_\\mathrm{in} (\\mathbf{w}_\\mathrm{lin})]\n",
    "= \\sigma^2 \\left( 1 - \\frac{d+1}{N} \\right)$$"
   ]
  },
  {
   "cell_type": "markdown",
   "metadata": {},
   "source": [
    "###  1.\n",
    "For $\\sigma = 0.1$ and $d = 8$, which among the following choices is the smallest\n",
    "number of examples $N$ that will result in an expected $E_\\mathrm{in}$ greater than $0.008$?"
   ]
  },
  {
   "cell_type": "code",
   "execution_count": 1,
   "metadata": {
    "collapsed": false
   },
   "outputs": [
    {
     "name": "stdout",
     "output_type": "stream",
     "text": [
      "0.001\n",
      "0.006400000000000001\n",
      "0.009100000000000002\n",
      "0.009820000000000002\n",
      "0.009910000000000002\n"
     ]
    }
   ],
   "source": [
    "sigma = 0.1\n",
    "d = 8\n",
    "for n in [10, 25, 100, 500, 1000]\n",
    "    println(sigma^2 * (1 - (d+1)/n))\n",
    "end"
   ]
  },
  {
   "cell_type": "markdown",
   "metadata": {},
   "source": [
    "## Nonlinear Transforms\n",
    "In linear classification, consider the feature transform $\\Phi: \\mathbb{R}^2 \\to \\mathbb{R}^2$\n",
    "(plus the added zeroth coordinate) given by:\n",
    "$$\\Phi(1, x_1, x_2) = (1, x_1^2, x_2^2)$$"
   ]
  },
  {
   "cell_type": "markdown",
   "metadata": {},
   "source": [
    "### 2.\n",
    "Which of the following sets of constraints on the weights in the $\\mathcal{Z}$ space could\n",
    "correspond to the hyperbolic decision boundary in $\\mathcal{X}$ depicted in the figure?\n",
    "\n",
    "You may assume that $\\tilde{w}_0$ can be selected to achieve the desired boundary."
   ]
  },
  {
   "cell_type": "markdown",
   "metadata": {
    "collapsed": true
   },
   "source": [
    "The general form of hyperbola in $(x,y)$-place is\n",
    "$$\\frac{x^2}{a^2} - \\frac{y^2}{b^2} = 1$$\n",
    "Only **d** is consistent with this."
   ]
  },
  {
   "cell_type": "markdown",
   "metadata": {},
   "source": [
    "Now, consider the 4th order polynomial transform from the input space $\\mathbb{R}^2$:\n",
    "$$\\Phi_4: \\mathbf{x} \\to (1, x_1, x_2, x_1^2, x_1 x_2, x_2^2, x_1^3, x_1^2 x_2, x_1 x_2^2, x_2^3, x_1^4, x_1^3 x_2, x_1^2 x_2^2, x_1 x_2^3, x_2^4)$$"
   ]
  },
  {
   "cell_type": "markdown",
   "metadata": {},
   "source": [
    "### 3.\n",
    "What is the smallest value among the following choices that is not smaller than\n",
    "the VC dimension of a linear model in this transformed space?"
   ]
  },
  {
   "cell_type": "markdown",
   "metadata": {
    "collapsed": true
   },
   "source": [
    "The VC dimension of the transformed space is smaller 15. So, **c** is the answer."
   ]
  },
  {
   "cell_type": "markdown",
   "metadata": {},
   "source": [
    "## Gradient Descent\n",
    "Consider the nonlinear error surface $E(u,v) = (ue^v − 2ve^{−u})^2$. We start at the point\n",
    "$(u,v) = (1,1)$ and minimize this error using gradient descent in the $uv$ space. Use\n",
    "$\\eta = 0.1$ (learning rate, not step size)."
   ]
  },
  {
   "cell_type": "markdown",
   "metadata": {},
   "source": [
    "### 4.\n",
    "What is the partial derivative of $E(u,v)$ with respect to $u$, i.e., $\\frac{\\partial E}{\\partial u}$?"
   ]
  },
  {
   "cell_type": "markdown",
   "metadata": {
    "collapsed": true
   },
   "source": [
    "$\\frac{\\partial E}{\\partial u} = 2(e^{v} + 2ve^{-u})(ue^v - 2ve^{-u})$"
   ]
  },
  {
   "cell_type": "markdown",
   "metadata": {},
   "source": [
    "### 5.\n",
    "How many iterations (among the given choices) does it take for the error $E(u,v)$\n",
    "to fall below $10^{−14}$ for the first time? In your programs, make sure to use double\n",
    "precision to get the needed accuracy."
   ]
  },
  {
   "cell_type": "markdown",
   "metadata": {},
   "source": [
    "### 6.\n",
    "After running enough iterations such that the error has just dropped below\n",
    "$10^{−14}$, what are the closest values (in Euclidean distance) among the following\n",
    "choices to the final $(u,v)$ you got in Problem 5?"
   ]
  },
  {
   "cell_type": "code",
   "execution_count": 2,
   "metadata": {
    "collapsed": false
   },
   "outputs": [
    {
     "data": {
      "text/plain": [
       "update_a_weight (generic function with 1 method)"
      ]
     },
     "execution_count": 2,
     "metadata": {},
     "output_type": "execute_result"
    }
   ],
   "source": [
    "function err(u, v)\n",
    "    return (u*e^v - 2*v*e^(-u))^2\n",
    "end\n",
    "\n",
    "function dE_du(u, v)\n",
    "    return 2*(e^(v) + 2*v*e^(-u))*(u*e^(v) - 2*v*e^(-u))\n",
    "end\n",
    "\n",
    "function dE_dv(u, v)\n",
    "    return 2*(u*e^(v) - 2*v*e^(-u))*(u*e^(v) - 2*e^(-u))\n",
    "end\n",
    "\n",
    "function update_weights(weights, eta)\n",
    "    u, v = weights\n",
    "    weights -= eta * [dE_du(u, v), dE_dv(u, v)]\n",
    "    return weights\n",
    "end\n",
    "\n",
    "function update_a_weight(weights, idx, eta)\n",
    "    u, v = weights\n",
    "    if idx == 1\n",
    "        weights[1] -= eta * dE_du(u, v)\n",
    "    elseif idx == 2\n",
    "        weights[2] -= eta * dE_dv(u, v)\n",
    "    end\n",
    "    return weights\n",
    "end"
   ]
  },
  {
   "cell_type": "code",
   "execution_count": 3,
   "metadata": {
    "collapsed": false
   },
   "outputs": [
    {
     "data": {
      "text/plain": [
       "question5and6 (generic function with 1 method)"
      ]
     },
     "execution_count": 3,
     "metadata": {},
     "output_type": "execute_result"
    }
   ],
   "source": [
    "function question5and6()\n",
    "    eta = 0.1\n",
    "    threshold = 1e-14\n",
    "    weights = [1.0, 1.0]\n",
    "    \n",
    "    for idx in 1:1000\n",
    "        new_err = err(weights[1], weights[2])\n",
    "        if new_err < threshold\n",
    "            println(idx-1)\n",
    "            return weights\n",
    "        else\n",
    "            weights = update_weights(weights, eta)\n",
    "        end\n",
    "    end\n",
    "end"
   ]
  },
  {
   "cell_type": "code",
   "execution_count": 4,
   "metadata": {
    "collapsed": false
   },
   "outputs": [
    {
     "name": "stdout",
     "output_type": "stream",
     "text": [
      "10\n"
     ]
    },
    {
     "data": {
      "text/plain": [
       "2-element Array{Float64,1}:\n",
       " 0.0447363\n",
       " 0.0239587"
      ]
     },
     "execution_count": 4,
     "metadata": {},
     "output_type": "execute_result"
    }
   ],
   "source": [
    "question5and6()"
   ]
  },
  {
   "cell_type": "markdown",
   "metadata": {},
   "source": [
    "### 7.\n",
    "Now, we will compare the performance of \"coordinate descent.\" In each iteration,\n",
    "we have two steps along the 2 coordinates. Step 1 is to move only along\n",
    "the $u$ coordinate to reduce the error (assume first-order approximation holds\n",
    "like in gradient descent), and step 2 is to reevaluate and move only along the $v$\n",
    "coordinate to reduce the error (again, assume first-order approximation holds).\n",
    "Use the same learning rate of $\\eta = 0.1$ as we did in gradient descent. What will\n",
    "the error $E(u,v)$ be closest to after 15 full iterations (30 steps)?"
   ]
  },
  {
   "cell_type": "code",
   "execution_count": 5,
   "metadata": {
    "collapsed": false
   },
   "outputs": [
    {
     "data": {
      "text/plain": [
       "question7 (generic function with 1 method)"
      ]
     },
     "execution_count": 5,
     "metadata": {},
     "output_type": "execute_result"
    }
   ],
   "source": [
    "function question7()\n",
    "    eta = 0.1\n",
    "    threshold = 1e-14\n",
    "    weights = [1.0, 1.0]\n",
    "    \n",
    "    for idx in 1:15\n",
    "        weights = update_a_weight(weights, 1, eta)\n",
    "        weights = update_a_weight(weights, 2, eta)\n",
    "    end\n",
    "    return err(weights[1], weights[2])\n",
    "end"
   ]
  },
  {
   "cell_type": "code",
   "execution_count": 6,
   "metadata": {
    "collapsed": false
   },
   "outputs": [
    {
     "data": {
      "text/plain": [
       "0.13981379199615315"
      ]
     },
     "execution_count": 6,
     "metadata": {},
     "output_type": "execute_result"
    }
   ],
   "source": [
    "question7()"
   ]
  },
  {
   "cell_type": "code",
   "execution_count": null,
   "metadata": {
    "collapsed": true
   },
   "outputs": [],
   "source": []
  },
  {
   "cell_type": "markdown",
   "metadata": {},
   "source": [
    "## Logistic Regression\n",
    "In this problem you will create your own target function $f$ (probability in this case)\n",
    "and data set $\\mathcal{D}$ to see how Logistic Regression works. For simplicity, we will take $f$\n",
    "to be a $0/1$ probability so $y$ is a deterministic function of $\\mathbf{x}$.\n",
    "\n",
    "Take $d = 2$ so you can visualize the problem, and let $X = [−1,1]\\times[−1,1]$ with uniform\n",
    "probability of picking each $x \\in \\mathcal{X}$. Choose a line in the plane as the boundary between\n",
    "$f(x) = 1$ (where $y$ has to be $+1$) and $f(x) = 0$ (where $y$ has to be $−1$) by taking two\n",
    "random, uniformly distributed points from $\\mathcal{X}$ and taking the line passing through\n",
    "them as the boundary between $y = \\pm 1$. Pick $N = 100$ training points at random\n",
    "from $\\mathcal{X}$, and evaluate the outputs $y_n$ for each of these points $\\mathbf{x}_n$.\n",
    "\n",
    "Run Logistic Regression with Stochastic Gradient Descent to find $g$, and estimate $E_\\mathrm{out}$\n",
    "(the **cross entropy** error) by generating a sufficiently large, separate set of points to\n",
    "evaluate the error. Repeat the experiment for $100$ runs with different targets and take\n",
    "the average. Initialize the weight vector of Logistic Regression to all zeros in each\n",
    "run. Stop the algorithm when $\\|w^{(t−1)} − w^{(t)} \\| < 0.01$, where $w^{(t)}$ denotes the weight\n",
    "vector at the end of epoch $t$. An epoch is a full pass through the $N$ data points (use a\n",
    "random permutation of $1,2,\\cdots,N$ to present the data points to the algorithm within\n",
    "each epoch, and use different permutations for different epochs). Use a learning rate\n",
    "of $0.01$."
   ]
  },
  {
   "cell_type": "markdown",
   "metadata": {
    "collapsed": true
   },
   "source": [
    "### 8.\n",
    "Which of the following is closest to $E_{out}$ for $N = 100$?"
   ]
  },
  {
   "cell_type": "markdown",
   "metadata": {},
   "source": [
    "### 9.\n",
    "How many epochs does it take on average for Logistic Regression to converge for\n",
    "$N = 100$ using the above initialization and termination rules and the specified\n",
    "learning rate? Pick the value that is closest to your results."
   ]
  },
  {
   "cell_type": "code",
   "execution_count": 7,
   "metadata": {
    "collapsed": false
   },
   "outputs": [
    {
     "data": {
      "text/plain": [
       "gen_target (generic function with 1 method)"
      ]
     },
     "execution_count": 7,
     "metadata": {},
     "output_type": "execute_result"
    }
   ],
   "source": [
    "function gen_target()\n",
    "    linpts = 2.0*rand((2,2)) - 1.0\n",
    "    targ_weights = [1.0; linpts \\ [-1, -1]] # a bit slow\n",
    "    return targ_weights\n",
    "end"
   ]
  },
  {
   "cell_type": "code",
   "execution_count": 8,
   "metadata": {
    "collapsed": false
   },
   "outputs": [
    {
     "data": {
      "text/plain": [
       "gen_dataset (generic function with 1 method)"
      ]
     },
     "execution_count": 8,
     "metadata": {},
     "output_type": "execute_result"
    }
   ],
   "source": [
    "function gen_dataset(num_points, targ_weights)\n",
    "    points = [ones(num_points) (2.0*rand((num_points,2)) - 1.0)]\n",
    "    labels = sign(points*targ_weights)\n",
    "    return points, labels, targ_weights\n",
    "end"
   ]
  },
  {
   "cell_type": "code",
   "execution_count": 9,
   "metadata": {
    "collapsed": false
   },
   "outputs": [
    {
     "data": {
      "text/plain": [
       "cross_entropy_error (generic function with 1 method)"
      ]
     },
     "execution_count": 9,
     "metadata": {},
     "output_type": "execute_result"
    }
   ],
   "source": [
    "function cross_entropy_error(points, weights, labels)\n",
    "    err = 0.0\n",
    "    for idx in 1:length(labels)\n",
    "        err += log(1.0 + exp(-labels[idx] * dot(weights, points[idx,:][:])))\n",
    "    end\n",
    "    return err / length(labels)\n",
    "end"
   ]
  },
  {
   "cell_type": "code",
   "execution_count": 10,
   "metadata": {
    "collapsed": false
   },
   "outputs": [
    {
     "data": {
      "text/plain": [
       "logistic_regression_sgd (generic function with 3 methods)"
      ]
     },
     "execution_count": 10,
     "metadata": {},
     "output_type": "execute_result"
    }
   ],
   "source": [
    "# the size of mini batch is 1\n",
    "function logistic_regression_sgd(points, labels, weights, threshold=0.01, eta=0.01)\n",
    "    batch_order = collect(1:length(points[:,1]))\n",
    "    weights_diff_norm = Inf\n",
    "    num_epochs = 0\n",
    "    while weights_diff_norm > threshold\n",
    "        prev_weights = weights[:]\n",
    "        shuffle!(batch_order)\n",
    "        for idx in batch_order\n",
    "            gradient = -(labels[idx] * points[idx,:][:]) / (1 + exp(labels[idx] * dot(weights, points[idx,:][:])))\n",
    "            weights -= eta * gradient\n",
    "        end\n",
    "        weights_diff_norm = norm(weights - prev_weights)\n",
    "        num_epochs += 1\n",
    "    end\n",
    "    return weights, num_epochs\n",
    "end"
   ]
  },
  {
   "cell_type": "code",
   "execution_count": 11,
   "metadata": {
    "collapsed": false
   },
   "outputs": [
    {
     "data": {
      "text/plain": [
       "plot_regression (generic function with 1 method)"
      ]
     },
     "execution_count": 11,
     "metadata": {},
     "output_type": "execute_result"
    }
   ],
   "source": [
    "using PyPlot\n",
    "\n",
    "function plot_regression(points, labels, targ_weights, hypo_weights)\n",
    "\n",
    "    x11,x12,x21,x22=[], [], [], []\n",
    "    for idx in 1:size(points)[1]\n",
    "        if labels[idx] == 1\n",
    "            push!(x11, points[idx,2])\n",
    "            push!(x12, points[idx,3])\n",
    "        else\n",
    "            push!(x21, points[idx,2])\n",
    "            push!(x22, points[idx,3])\n",
    "        end\n",
    "    end\n",
    "\n",
    "    fig = figure(\"regression\",figsize=(5,5))\n",
    "    xlim(-1, 1)\n",
    "    ylim(-1, 1)\n",
    "    scatter(x11, x12, color=\"red\")\n",
    "    scatter(x21, x22, color=\"blue\")\n",
    "    s = linspace(-1,1)\n",
    "    targ_func(x) = -targ_weights[2]/targ_weights[3]*x - targ_weights[1]/targ_weights[3]\n",
    "    hypo_func(x) = -hypo_weights[2]/hypo_weights[3]*x - hypo_weights[1]/hypo_weights[3]\n",
    "    plot(s, targ_func(s), \"g-\")\n",
    "    plot(s, hypo_func(s), \"y-\")\n",
    "    title(\"Regression\")\n",
    "    xlabel(L\"$x_1$\")\n",
    "    ylabel(L\"$x_2$\")\n",
    "    grid(\"on\")\n",
    "end"
   ]
  },
  {
   "cell_type": "code",
   "execution_count": 14,
   "metadata": {
    "collapsed": false
   },
   "outputs": [
    {
     "data": {
      "text/plain": [
       "question8and9 (generic function with 3 methods)"
      ]
     },
     "execution_count": 14,
     "metadata": {},
     "output_type": "execute_result"
    }
   ],
   "source": [
    "function question8and9(num_iterations=100, num_out_sample=1000)\n",
    "    cnt = 0\n",
    "    cee_sum = 0.0\n",
    "    for idx in 1:num_iterations\n",
    "        targ_weights = gen_target()\n",
    "        weights = zeros(3)\n",
    "        # in sample\n",
    "        points, labels = gen_dataset(100, targ_weights)\n",
    "        weights, num_epochs = logistic_regression_sgd(points, labels, weights)\n",
    "        cnt += num_epochs\n",
    "        # out sample\n",
    "        points, labels = gen_dataset(num_out_sample, targ_weights)\n",
    "        cee_sum += cross_entropy_error(points, weights, labels)\n",
    "        # plot\n",
    "        if idx == num_iterations\n",
    "            plot_regression(points, labels, targ_weights, weights)\n",
    "        end\n",
    "    end\n",
    "\n",
    "    return cee_sum/num_iterations, cnt/num_iterations\n",
    "end"
   ]
  },
  {
   "cell_type": "code",
   "execution_count": 15,
   "metadata": {
    "collapsed": false
   },
   "outputs": [
    {
     "data": {
      "image/png": "[encoded data removed]",
      "text/plain": [
       "PyPlot.Figure(PyObject <matplotlib.figure.Figure object at 0x7f4ced0f7e90>)"
      ]
     },
     "metadata": {},
     "output_type": "display_data"
    },
    {
     "name": "stdout",
     "output_type": "stream",
     "text": [
      "  4.440937 seconds (42.30 M allocations: 3.101 GB, 13.43% gc time)\n"
     ]
    },
    {
     "data": {
      "text/plain": [
       "(0.10085137668884869,348.12)"
      ]
     },
     "execution_count": 15,
     "metadata": {},
     "output_type": "execute_result"
    }
   ],
   "source": [
    "@time question8and9()"
   ]
  },
  {
   "cell_type": "markdown",
   "metadata": {},
   "source": [
    "## PLA as SGD"
   ]
  },
  {
   "cell_type": "markdown",
   "metadata": {},
   "source": [
    "## 10.\n",
    "The Perceptron Learning Algorithm can be implemented as SGD using which\n",
    "of the following error functions $\\mathrm{e}_n(\\mathbf{w})$? Ignore the points $\\mathbf{w}$ at which\n",
    "$\\mathrm{e}_n(\\mathbf{w})$ is not twice differentiable."
   ]
  },
  {
   "cell_type": "markdown",
   "metadata": {
    "collapsed": true
   },
   "source": [
    "In PLA, we update the weights with the rule\n",
    "$$\n",
    "\\mathbf{w}(t+1) = \\mathbf{w}(t) + y_n \\mathbf{x}_n \\mbox{ if } \\mathbf{x} \\mbox{ is misclassified.} \\\\\n",
    "\\mathbf{w}(t+1) = \\mathbf{w}(t) \\mbox{ if } \\mathbf{x} \\mbox{ is well classified.} \\\\\n",
    "$$\n",
    "\n",
    "We can get the gradient of $\\mathrm{e}_n(\\mathbf{w}) = - \\min(0, y_n \\mathbf{w}^\\intercal \\mathbf{x}_n)$ as \n",
    "$$\\nabla \\mathrm{e}_n(\\mathbf{w}) = \n",
    "\\begin{cases}\n",
    "-y_n x_n & y_n \\mathbf{w}^\\intercal x_n < 0 \\\\\n",
    "0 & y_n \\mathbf{w}^\\intercal x_n \\geq 0\n",
    "\\end{cases}$$\n",
    "\n",
    "So, we can implement PLA as SGD using an error function of **e**."
   ]
  },
  {
   "cell_type": "code",
   "execution_count": null,
   "metadata": {
    "collapsed": true
   },
   "outputs": [],
   "source": []
  }
 ],
 "metadata": {
  "anaconda-cloud": {},
  "kernelspec": {
   "display_name": "Julia 0.4",
   "language": "julia",
   "name": "julia-0.4"
  },
  "language_info": {
   "file_extension": ".jl",
   "mimetype": "application/julia",
   "name": "julia",
   "version": "0.4.7"
  }
 },
 "nbformat": 4,
 "nbformat_minor": 0
}
