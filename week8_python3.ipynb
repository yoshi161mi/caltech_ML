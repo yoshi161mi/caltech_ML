{
 "cells": [
  {
   "cell_type": "code",
   "execution_count": 6,
   "metadata": {
    "collapsed": false
   },
   "outputs": [],
   "source": [
    "import numpy as np\n",
    "\n",
    "training_data = np.genfromtxt('features.train', dtype=np.float)\n",
    "test_data = np.genfromtxt('features.test', dtype=np.float)\n",
    "\n",
    "train_features = training_data[:,1:3]\n",
    "train_labels = training_data[:,0]\n",
    "test_features = test_data[:,1:3]\n",
    "test_labels = test_data[:,0]\n",
    "\n",
    "def n_vs_all(labels, n):\n",
    "    nlabels = np.copy(labels)\n",
    "    nlabels[labels == n] = 1\n",
    "    nlabels[labels != n] = -1\n",
    "    return nlabels\n",
    "\n",
    "def filter_m_vs_n(features, labels, m, n):\n",
    "    mids = np.where(labels == m)\n",
    "    nids = np.where(labels == n)\n",
    "    mlabels = 1*np.ones(len(mids[0]))\n",
    "    nlabels = -1*np.ones(len(nids[0]))\n",
    "    return np.vstack((features[mids], features[nids])), np.hstack((mlabels, nlabels))"
   ]
  },
  {
   "cell_type": "code",
   "execution_count": 7,
   "metadata": {
    "collapsed": false
   },
   "outputs": [
    {
     "name": "stdout",
     "output_type": "stream",
     "text": [
      "0 0.105883966534\n",
      "2 0.100260595254\n",
      "4 0.0894253188863\n",
      "6 0.0910711836511\n",
      "8 0.0743382252092\n"
     ]
    }
   ],
   "source": [
    "from sklearn import svm\n",
    "\n",
    "def question2():\n",
    "    for i in range(0,9,2):\n",
    "        labels = n_vs_all(train_labels, i)\n",
    "        clf = svm.SVC(C=0.01, kernel=\"poly\", degree=2, gamma=1.0, coef0=1.0)\n",
    "        clf.fit(train_features, labels)\n",
    "        print(i, 1.0 - clf.score(train_features, labels))\n",
    "\n",
    "question2()"
   ]
  },
  {
   "cell_type": "code",
   "execution_count": 3,
   "metadata": {
    "collapsed": false
   },
   "outputs": [
    {
     "name": "stdout",
     "output_type": "stream",
     "text": [
      "1 0.0144013166918\n",
      "3 0.0902482512687\n",
      "5 0.0762584007681\n",
      "7 0.0884652311068\n",
      "9 0.0883280757098\n"
     ]
    }
   ],
   "source": [
    "from sklearn import svm\n",
    "\n",
    "def question3():\n",
    "    for i in range(1,10,2):\n",
    "        labels = n_vs_all(train_labels, i)\n",
    "        clf = svm.SVC(C=0.01, kernel=\"poly\", degree=2, gamma=1.0, coef0=1.0)\n",
    "        clf.fit(train_features, labels)\n",
    "        print(i, 1.0 - clf.score(train_features, labels))\n",
    "\n",
    "question3()"
   ]
  },
  {
   "cell_type": "code",
   "execution_count": 4,
   "metadata": {
    "collapsed": false
   },
   "outputs": [
    {
     "data": {
      "text/plain": [
       "1793"
      ]
     },
     "execution_count": 4,
     "metadata": {},
     "output_type": "execute_result"
    }
   ],
   "source": [
    "from sklearn import svm\n",
    "\n",
    "def question4():\n",
    "    labels0 = n_vs_all(train_labels, 0)\n",
    "    labels1 = n_vs_all(train_labels, 1)\n",
    "    clf = svm.SVC(C=0.01, kernel=\"poly\", degree=2, gamma=1.0, coef0=1.0)\n",
    "    clf.fit(train_features, labels0)\n",
    "    len0 = len(clf.support_)\n",
    "    clf.fit(train_features, labels1)\n",
    "    len1 = len(clf.support_)\n",
    "    return abs(len0 - len1)\n",
    "\n",
    "question4()"
   ]
  },
  {
   "cell_type": "code",
   "execution_count": 8,
   "metadata": {
    "collapsed": false
   },
   "outputs": [
    {
     "name": "stdout",
     "output_type": "stream",
     "text": [
      "C: 0.001\n",
      "# of sv: 76\n",
      "E_in: 0.00448430493274\n",
      "E_out: 0.0165094339623\n",
      "---\n",
      "C: 0.01\n",
      "# of sv: 34\n",
      "E_in: 0.00448430493274\n",
      "E_out: 0.0188679245283\n",
      "---\n",
      "C: 0.1\n",
      "# of sv: 24\n",
      "E_in: 0.00448430493274\n",
      "E_out: 0.0188679245283\n",
      "---\n",
      "C: 1\n",
      "# of sv: 24\n",
      "E_in: 0.00320307495195\n",
      "E_out: 0.0188679245283\n",
      "---\n"
     ]
    }
   ],
   "source": [
    "from sklearn import svm\n",
    "\n",
    "def question5():\n",
    "    features, labels = filter_m_vs_n(train_features, train_labels, 1, 5)\n",
    "    t_features, t_labels = filter_m_vs_n(test_features, test_labels, 1, 5)\n",
    "    for c in [0.001,0.01,0.1,1]:\n",
    "        clf = svm.SVC(C=c, kernel=\"poly\", degree=2, gamma=1.0, coef0=1.0)\n",
    "        clf.fit(features, labels)\n",
    "        print(\"C:\",c)\n",
    "        print(\"# of sv:\", len(clf.support_))\n",
    "        print(\"E_in:\", 1 - clf.score(features, labels))\n",
    "        print(\"E_out:\", 1 - clf.score(t_features, t_labels))\n",
    "        print(\"---\")\n",
    "\n",
    "question5()"
   ]
  },
  {
   "cell_type": "code",
   "execution_count": 8,
   "metadata": {
    "collapsed": false
   },
   "outputs": [
    {
     "name": "stdout",
     "output_type": "stream",
     "text": [
      "C: 0.0001 Q: 2\n",
      "# of sv: 236\n",
      "E_in: 0.00896860986547\n",
      "E_out: 0.0165094339623\n",
      "---\n",
      "C: 0.0001 Q: 5\n",
      "# of sv: 26\n",
      "E_in: 0.00448430493274\n",
      "E_out: 0.0188679245283\n",
      "---\n",
      "C: 0.001 Q: 2\n",
      "# of sv: 76\n",
      "E_in: 0.00448430493274\n",
      "E_out: 0.0165094339623\n",
      "---\n",
      "C: 0.001 Q: 5\n",
      "# of sv: 25\n",
      "E_in: 0.00448430493274\n",
      "E_out: 0.0212264150943\n",
      "---\n",
      "C: 0.01 Q: 2\n",
      "# of sv: 34\n",
      "E_in: 0.00448430493274\n",
      "E_out: 0.0188679245283\n",
      "---\n",
      "C: 0.01 Q: 5\n",
      "# of sv: 23\n",
      "E_in: 0.00384368994234\n",
      "E_out: 0.0212264150943\n",
      "---\n",
      "C: 1 Q: 2\n",
      "# of sv: 24\n",
      "E_in: 0.00320307495195\n",
      "E_out: 0.0188679245283\n",
      "---\n",
      "C: 1 Q: 5\n",
      "# of sv: 21\n",
      "E_in: 0.00320307495195\n",
      "E_out: 0.0212264150943\n",
      "---\n"
     ]
    }
   ],
   "source": [
    "from sklearn import svm\n",
    "\n",
    "def question6():\n",
    "    features, labels = filter_m_vs_n(train_features, train_labels, 1, 5)\n",
    "    t_features, t_labels = filter_m_vs_n(test_features, test_labels, 1, 5)\n",
    "    for c in [0.0001, 0.001, 0.01, 1]:\n",
    "        for q in [2, 5]:\n",
    "            clf = svm.SVC(C=c, kernel=\"poly\", degree=q, gamma=1.0, coef0=1.0)\n",
    "            clf.fit(features, labels)\n",
    "            print(\"C:\",c, \"Q:\",q)\n",
    "            print(\"# of sv:\", len(clf.support_))\n",
    "            print(\"E_in:\", 1 - clf.score(features, labels))\n",
    "            print(\"E_out:\", 1 - clf.score(t_features, t_labels))\n",
    "            print(\"---\")\n",
    "\n",
    "question6()"
   ]
  },
  {
   "cell_type": "code",
   "execution_count": 25,
   "metadata": {
    "collapsed": false
   },
   "outputs": [
    {
     "name": "stdout",
     "output_type": "stream",
     "text": [
      "{1: 48, 2: 27, 3: 10, 4: 15}\n"
     ]
    }
   ],
   "source": [
    "# for sklearn <= 17.1\n",
    "from sklearn.cross_validation import KFold\n",
    "from sklearn import svm\n",
    "\n",
    "def question7():\n",
    "    features, labels = filter_m_vs_n(train_features, train_labels, 1, 5)\n",
    "    dist = {}\n",
    "    for _ in range(100):\n",
    "        kfold = KFold(len(features), 10, shuffle=True)\n",
    "        err_cnts = []\n",
    "        for c in [0.0001, 0.001, 0.01, 0.1, 1]:\n",
    "            err_cnt = 0\n",
    "            for train,valid in kfold:\n",
    "                clf = svm.SVC(C=c, kernel=\"poly\", degree=2, gamma=1.0, coef0=1.0)\n",
    "                clf.fit(features[train], labels[train])\n",
    "                err_cnt += np.sum(clf.predict(features[valid]) != labels[valid])\n",
    "            err_cnts.append(err_cnt)\n",
    "        winner = np.argmin(err_cnts)\n",
    "        dist[winner] = dist.get(winner, 0) + 1\n",
    "    print(dist)\n",
    "\n",
    "question7()"
   ]
  },
  {
   "cell_type": "code",
   "execution_count": 24,
   "metadata": {
    "collapsed": false
   },
   "outputs": [
    {
     "name": "stdout",
     "output_type": "stream",
     "text": [
      "{1: 61, 2: 19, 3: 13, 4: 7}\n"
     ]
    }
   ],
   "source": [
    "# for sklearn >= 18.1\n",
    "from sklearn.model_selection import KFold\n",
    "from sklearn import svm\n",
    "\n",
    "def question7_2():\n",
    "    features, labels = filter_m_vs_n(train_features, train_labels, 1, 5)\n",
    "    dist = {}\n",
    "    for _ in range(100):\n",
    "        kfold = list(KFold(10, shuffle=True).split(features))\n",
    "        err_cnts = []\n",
    "        for c in [0.0001, 0.001, 0.01, 0.1, 1]:\n",
    "            err_cnt = 0\n",
    "            for train, valid in kfold:\n",
    "                clf = svm.SVC(C=c, kernel=\"poly\", degree=2, gamma=1.0, coef0=1.0)\n",
    "                clf.fit(features[train], labels[train])\n",
    "                err_cnt += np.sum(clf.predict(features[valid]) != labels[valid])\n",
    "            err_cnts.append(err_cnt)\n",
    "        winner = np.argmin(err_cnts)\n",
    "        dist[winner] = dist.get(winner, 0) + 1\n",
    "    print(dist)\n",
    "\n",
    "question7_2()"
   ]
  },
  {
   "cell_type": "code",
   "execution_count": 26,
   "metadata": {
    "collapsed": false
   },
   "outputs": [
    {
     "name": "stdout",
     "output_type": "stream",
     "text": [
      "{1: 58, 2: 21, 3: 11, 4: 10}\n"
     ]
    }
   ],
   "source": [
    "# for sklearn >= 18.1\n",
    "from numpy.random import randint\n",
    "from sklearn.model_selection import KFold\n",
    "from sklearn import svm\n",
    "\n",
    "def question7_3():\n",
    "    features, labels = filter_m_vs_n(train_features, train_labels, 1, 5)\n",
    "    dist = {}\n",
    "    for _ in range(100):\n",
    "        rs = randint(4294967295+1)\n",
    "        kfold = KFold(10, shuffle=True, random_state=rs)\n",
    "        err_cnts = []\n",
    "        for c in [0.0001, 0.001, 0.01, 0.1, 1]:\n",
    "            err_cnt = 0\n",
    "            for train, valid in kfold.split(features):\n",
    "                clf = svm.SVC(C=c, kernel=\"poly\", degree=2, gamma=1.0, coef0=1.0)\n",
    "                clf.fit(features[train], labels[train])\n",
    "                err_cnt += np.sum(clf.predict(features[valid]) != labels[valid])\n",
    "            err_cnts.append(err_cnt)\n",
    "        winner = np.argmin(err_cnts)\n",
    "        dist[winner] = dist.get(winner, 0) + 1\n",
    "    print(dist)\n",
    "\n",
    "question7_3()"
   ]
  },
  {
   "cell_type": "code",
   "execution_count": 14,
   "metadata": {
    "collapsed": false
   },
   "outputs": [
    {
     "name": "stdout",
     "output_type": "stream",
     "text": [
      "{1: 46, 2: 23, 3: 10, 4: 21}\n"
     ]
    }
   ],
   "source": [
    "from numpy.random import randint\n",
    "from sklearn.model_selection import cross_val_score, ShuffleSplit\n",
    "from sklearn import svm\n",
    "\n",
    "def question7_4():\n",
    "    features, labels = filter_m_vs_n(train_features, train_labels, 1, 5)\n",
    "    dist = {}\n",
    "    for idx in range(100):\n",
    "        scores = []\n",
    "        rs = randint(4294967295+1)\n",
    "        cv = ShuffleSplit(random_state=rs)\n",
    "        for c in [0.0001, 0.001, 0.01, 0.1, 1]:\n",
    "            clf = svm.SVC(C=c, kernel=\"poly\", degree=2, gamma=1.0, coef0=1.0)\n",
    "            score = cross_val_score(clf, features, labels, cv=cv)\n",
    "            scores.append(1 - np.mean(score))\n",
    "        winner = np.argmin(scores)\n",
    "        dist[winner] = dist.get(winner, 0) + 1\n",
    "    print(dist)\n",
    "\n",
    "question7_4()"
   ]
  },
  {
   "cell_type": "code",
   "execution_count": 28,
   "metadata": {
    "collapsed": false
   },
   "outputs": [
    {
     "name": "stdout",
     "output_type": "stream",
     "text": [
      "0.00479180012812\n"
     ]
    }
   ],
   "source": [
    "# for sklearn >= 18.1\n",
    "from sklearn.model_selection import KFold\n",
    "from sklearn import svm\n",
    "\n",
    "def question8():\n",
    "    features, labels = filter_m_vs_n(train_features, train_labels, 1, 5)\n",
    "    err_cnts = []\n",
    "    clf = svm.SVC(C=0.001, kernel=\"poly\", degree=2, gamma=1.0, coef0=1.0)\n",
    "    for _ in range(100):\n",
    "        kfold = list(KFold(10, shuffle=True).split(features))\n",
    "        err_cnt = 0\n",
    "        for train,valid in kfold:\n",
    "            clf.fit(features[train], labels[train])\n",
    "            err_cnt += ( np.sum(clf.predict(features[valid]) != labels[valid]))\n",
    "        err_cnts.append(err_cnt)\n",
    "    print(np.mean(err_cnts) / len(labels))\n",
    "\n",
    "question8()"
   ]
  },
  {
   "cell_type": "code",
   "execution_count": 29,
   "metadata": {
    "collapsed": false
   },
   "outputs": [
    {
     "name": "stdout",
     "output_type": "stream",
     "text": [
      "C: 0.01\n",
      "# of sv: 406\n",
      "E_in: 0.00384368994234\n",
      "E_out: 0.0235849056604\n",
      "---\n",
      "C: 1\n",
      "# of sv: 31\n",
      "E_in: 0.00448430493274\n",
      "E_out: 0.0212264150943\n",
      "---\n",
      "C: 100\n",
      "# of sv: 22\n",
      "E_in: 0.00320307495195\n",
      "E_out: 0.0188679245283\n",
      "---\n",
      "C: 10000.0\n",
      "# of sv: 19\n",
      "E_in: 0.00256245996156\n",
      "E_out: 0.0235849056604\n",
      "---\n",
      "C: 1000000.0\n",
      "# of sv: 17\n",
      "E_in: 0.000640614990391\n",
      "E_out: 0.0235849056604\n",
      "---\n"
     ]
    }
   ],
   "source": [
    "from sklearn import svm\n",
    "\n",
    "def question9and10():\n",
    "    features, labels = filter_m_vs_n(train_features, train_labels, 1, 5)\n",
    "    t_features, t_labels = filter_m_vs_n(test_features, test_labels, 1, 5)\n",
    "    for c in [0.01, 1, 100, 1e4, 1e6]:\n",
    "        clf = svm.SVC(C=c, kernel=\"rbf\", gamma=1.0)\n",
    "        clf.fit(features, labels)\n",
    "        print(\"C:\",c)\n",
    "        print(\"# of sv:\", len(clf.support_))\n",
    "        print(\"E_in:\", 1 - clf.score(features, labels))\n",
    "        print(\"E_out:\", 1 - clf.score(t_features, t_labels))\n",
    "        print(\"---\")\n",
    "\n",
    "question9and10()"
   ]
  },
  {
   "cell_type": "code",
   "execution_count": null,
   "metadata": {
    "collapsed": true
   },
   "outputs": [],
   "source": []
  }
 ],
 "metadata": {
  "anaconda-cloud": {},
  "kernelspec": {
   "display_name": "Python [default]",
   "language": "python",
   "name": "python3"
  },
  "language_info": {
   "codemirror_mode": {
    "name": "ipython",
    "version": 3
   },
   "file_extension": ".py",
   "mimetype": "text/x-python",
   "name": "python",
   "nbconvert_exporter": "python",
   "pygments_lexer": "ipython3",
   "version": "3.5.2"
  }
 },
 "nbformat": 4,
 "nbformat_minor": 0
}
